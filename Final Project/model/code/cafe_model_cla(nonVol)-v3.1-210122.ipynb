{
 "cells": [
  {
   "cell_type": "code",
   "execution_count": 3,
   "metadata": {},
   "outputs": [],
   "source": [
    "%matplotlib inline\n",
    "#%matplotlib notebook\n",
    "\n",
    "import pandas as pd\n",
    "import numpy as np\n",
    "import matplotlib.pyplot as plt\n",
    "plt.rcParams['font.family'] = ['Microsoft JhengHei']# 指定中文字型\n",
    "plt.style.use('seaborn-whitegrid')\n",
    "\n",
    "import seaborn as sns\n",
    "sns.set_theme(color_codes=True)"
   ]
  },
  {
   "cell_type": "markdown",
   "metadata": {},
   "source": [
    "### 讀取所有資料及整理"
   ]
  },
  {
   "cell_type": "markdown",
   "metadata": {},
   "source": [
    "- 不使用任何跟站點有關參數(流量、轉乗數量等)\n",
    "- 使用所有站點\n"
   ]
  },
  {
   "cell_type": "code",
   "execution_count": 6,
   "metadata": {},
   "outputs": [
    {
     "name": "stdout",
     "output_type": "stream",
     "text": [
      "所有欄位的名稱:\n",
      " Index(['Station_Type', 'Activated', 'Station_ID', 'Station_Name', 'T_Status',\n",
      "       'Num_Transfer', 'Num_Atm', 'Num_Cstore', 'Num_Med', 'Num_Ele',\n",
      "       'Num_Sec', 'Num_High', 'All_School', 'Num_POI', 'Num_Park',\n",
      "       'Num_Village', 'Income_Gross', 'Income_Average', 'Population', 'Child',\n",
      "       'Adult', 'Old_Age', 'Young_Adult', 'Middle_Age', 'Child_Dep', 'Old_Dep',\n",
      "       'Higher_Edu', 'Sec_Edu', 'Ele_Edu', 'Uneducated', 'Male', 'Married',\n",
      "       'Immigrant', 'Birth', 'Vol_All', 'Vol_Workday', 'Weekend',\n",
      "       'Median_Rent', 'Num_Cafe', 'Num_Drink', 'Num_Bar', 'Num_Gym',\n",
      "       'Num_Lodging', 'Cat_Vol', 'Cat_Rent', 'Cat_Cafe', 'Cat_Drink',\n",
      "       'Cat_Bar', 'Cat_Gym', 'Cat_Lodging'],\n",
      "      dtype='object') \n",
      "\n",
      "各營運狀態站點數量:\n",
      " Activated\n",
      "0     105\n",
      "1     173\n",
      "10     14\n",
      "dtype: int64 \n",
      "\n",
      "咖啡店分級 Cat_Cafe\n",
      "0    86\n",
      "1    48\n",
      "2    41\n",
      "3    58\n",
      "4    59\n",
      "dtype: int64 \n",
      "\n",
      "選取的站點數量:\n",
      " Activated\n",
      "0     105\n",
      "1     173\n",
      "10     14\n",
      "dtype: int64 \n",
      "\n"
     ]
    }
   ],
   "source": [
    "# 讀取所有資料\n",
    "path= '../data/'\n",
    "file= 'all_data_final_v4_20210110.csv'\n",
    "df = pd.read_csv( path+file ,encoding='utf-8')\n",
    "\n",
    "print('所有欄位的名稱:\\n',df.columns,'\\n')\n",
    "\n",
    "# 檢視不同營運狀態的站點數量 。1: 有運量資歷的站點、 10: 缺乏運量資料的站點(淡水輕軌)、0: 規劃中站點\n",
    "print('各營運狀態站點數量:\\n',df.groupby('Activated').size(),'\\n')   \n",
    "\n",
    "# 將咖啡店數量資料轉為類別資料，分為5個等級\n",
    "df['Cat_Cafe'] = pd.qcut( df['Num_Cafe'], 5, labels=np.arange(5)) # np.arange(5) return 0~4\n",
    "print('咖啡店分級',df.groupby('Cat_Cafe').size(),'\\n')\n",
    "\n",
    "# 填補缺值。注意目前主要流量料有缺值，另外租金資料為0的本身也是缺值\n",
    "# df.fillna(value=0, inplace=True)\n",
    "# print(df.isnull().any())\n",
    "\n",
    "# 指定選取站點 選取所有資料\n",
    "data = df\n",
    "print('選取的站點數量:\\n',data.groupby('Activated').size(),'\\n') \n",
    "\n",
    "# print(data.isnull().any())  # 檢視缺值"
   ]
  },
  {
   "cell_type": "code",
   "execution_count": 4,
   "metadata": {},
   "outputs": [],
   "source": [
    "# data.loc[:,:'Birth'].describe()"
   ]
  },
  {
   "cell_type": "code",
   "execution_count": 5,
   "metadata": {},
   "outputs": [],
   "source": [
    "# data.loc[:,'Vol_All':].describe()"
   ]
  },
  {
   "cell_type": "markdown",
   "metadata": {},
   "source": [
    "## 模型訓練流程\n",
    "\n",
    "1. 以 Accuracy做為評估指標，配合Cross Validation 初步篩選表現較佳的模型\n",
    "  - Linear(SGD)、RandomForest、GBDT、SVM \n",
    "  - 先以各模型預設值進行測試\n",
    "  - 同時檢視訓練與測試資料集\n",
    " \n",
    "2. 從步驟1選出表現較好的模型，進一步進行超參數微調\n",
    "  - 調整至訓練與測試資料集有接近表現為止\n",
    "  \n",
    "3. 訓練模型同時，也使用feature_importances_等參數檢視模型中各變數的解釋力\n"
   ]
  },
  {
   "cell_type": "markdown",
   "metadata": {},
   "source": [
    "### 特徵選擇\n",
    "\n",
    "- https://machinelearningmastery.com/calculate-feature-importance-with-python/https://machinelearningmastery.com/calculate-feature-importance-with-python/"
   ]
  },
  {
   "cell_type": "code",
   "execution_count": 13,
   "metadata": {},
   "outputs": [],
   "source": [
    "# 用來找出特徵值的函式  \n",
    "'''輸入績效評估分數，回傳: \n",
    "   1. 重要特徵值的解釋力佔比 或\n",
    "   2. 係數值(Lasso迴歸) \n",
    "'''\n",
    "def feature_import(feature_score):\n",
    "    feature_names =list(X.columns.values)  # 取得變數名稱\n",
    "    feature_importances = {}               # 取得變數評分值 \n",
    "    for var , score in zip(feature_names, feature_score):\n",
    "        feature_importances.update( {var : score } )\n",
    "#     print(f'{score:.3f} : {var} ')\n",
    "\n",
    "    # 將特徵重要性依大小排序\n",
    "    feature_importances = dict(sorted(feature_importances.items(), key=lambda item: item[1], reverse=True))  # 按value排序\n",
    "    df = pd.DataFrame.from_dict(feature_importances,orient='index', columns=['socre'])\n",
    "    \n",
    "    if df['socre'].sum() <= 1.1:                 # 擷取隨機森林迴歸的重要值(所有權種合計為1)   \n",
    "#         return print(df.head(15),'\\n')                        # 傳回表 \n",
    "        return  df.head(10).plot(kind=\"bar\")   # 傳回圖\n",
    "\n",
    "    else:\n",
    "        df_coff = df[(df.values > 0.1)\n",
    "                | (df.values < -0.1)]     # 擷取lasso迴歸的重要係數\n",
    "#         return print(df_coff)                   # 傳回表  \n",
    "        return  df_coff.plot(kind=\"bar\")   # 傳回圖"
   ]
  },
  {
   "cell_type": "code",
   "execution_count": 37,
   "metadata": {},
   "outputs": [],
   "source": [
    "# 用來顯示績效評分的的函式  \n",
    "def display_scores(scores):\n",
    "    print(f'Cross Validation Scores:{scores}')\n",
    "    print(f'Mean_train  :{scores.mean():.3f}')\n",
    "    print(f'Std_train  :{scores.std():.3f}\\n')"
   ]
  },
  {
   "cell_type": "code",
   "execution_count": 11,
   "metadata": {},
   "outputs": [],
   "source": [
    "# 資料集準備\n",
    "from sklearn import preprocessing\n",
    "\n",
    "# 在這邊手動設定預測項目\n",
    "y = data['Cat_Cafe']\n",
    "\n",
    "# 不使用任何跟站點有關參數(流量、轉乗數量等)\n",
    "\n",
    "feature_selected = [\n",
    "                    'Num_Atm', 'Num_Cstore', 'Num_Med', 'Num_Ele',\n",
    "                    'Num_Sec', 'Num_High', 'Num_POI', 'Num_Park',\n",
    "                    'Income_Gross', 'Income_Average', 'Population', 'Child',\n",
    "                     'Old_Age', 'Young_Adult', 'Middle_Age', 'Child_Dep', 'Old_Dep',\n",
    "                    'Higher_Edu', 'Sec_Edu', 'Ele_Edu', 'Uneducated', 'Male', 'Married',\n",
    "                    'Immigrant', 'Birth'\n",
    "                    ] \n",
    "\n",
    "X = data[feature_selected]\n",
    "\n",
    "# print(X.dtypes)\n",
    "\n",
    "# 採用label encoder 將類別資料轉為數值型態\n",
    "# label_encoder = preprocessing.LabelEncoder()\n",
    "# encoded_S_Type = label_encoder.fit_transform(X['Station_Type'])\n",
    "# X.loc[:,'Station_Type'] = encoded_S_Type.copy()\n",
    "\n"
   ]
  },
  {
   "cell_type": "markdown",
   "metadata": {},
   "source": [
    "### 使用Cross Validation 進行模型績效比較"
   ]
  },
  {
   "cell_type": "markdown",
   "metadata": {},
   "source": [
    "### Linear_model(SGDClassifier)"
   ]
  },
  {
   "cell_type": "code",
   "execution_count": 39,
   "metadata": {},
   "outputs": [
    {
     "name": "stdout",
     "output_type": "stream",
     "text": [
      "Train data:\n",
      "\n",
      "Cross Validation Scores:[0.42553191 0.4893617  0.53191489 0.63043478 0.47826087]\n",
      "Mean_train  :0.511\n",
      "Std_train  :0.069\n",
      "\n",
      "--------------------------------------------------\n",
      "Test data:\n",
      "\n",
      "Accuracy_test: 0.576\n",
      "\n",
      "Classification Report:\n",
      "\n",
      "              precision    recall  f1-score   support\n",
      "\n",
      "           0       0.56      0.75      0.64        12\n",
      "           1       0.29      0.36      0.32        11\n",
      "           2       0.20      0.14      0.17         7\n",
      "           3       0.50      0.31      0.38        16\n",
      "           4       0.93      1.00      0.96        13\n",
      "\n",
      "    accuracy                           0.54        59\n",
      "   macro avg       0.50      0.51      0.50        59\n",
      "weighted avg       0.53      0.54      0.53        59\n",
      "\n"
     ]
    }
   ],
   "source": [
    "# 線性回歸模型\n",
    "from sklearn.linear_model import SGDClassifier\n",
    "from sklearn import preprocessing\n",
    "from sklearn.model_selection import train_test_split, cross_val_score\n",
    "from sklearn.metrics import accuracy_score, confusion_matrix, mean_squared_error\n",
    "\n",
    "X_train, X_test, y_train, y_test = train_test_split(X, y,test_size= 0.2, random_state=42)\n",
    "scaler = preprocessing.StandardScaler().fit(X_train)\n",
    "X_train = scaler.transform(X_train)\n",
    "\n",
    "model = SGDClassifier()\n",
    "model.fit(X_train, y_train)\n",
    "\n",
    "X_test = scaler.transform(X_test)\n",
    "y_pred = model.predict(X_test)\n",
    "\n",
    "# 訓練集Cross Validation\n",
    "print('Train data:\\n')\n",
    "SGD_scores = cross_val_score(model, X_train, y_train,\n",
    "         scoring='accuracy',cv=5 )\n",
    "display_scores(SGD_scores)\n",
    "\n",
    "print('-'*50)\n",
    "\n",
    "# 測試資料績效評估\n",
    "print('Test data:\\n')\n",
    "accuracy_test = accuracy_score(y_test, y_pred)\n",
    "num_correct_samples = accuracy_score(y_test, y_pred, normalize=False)\n",
    "con_matrix = confusion_matrix(y_test, y_pred)\n",
    "\n",
    "# print(f'Number of correct sample: {num_correct_samples}')\n",
    "print(f'Accuracy_test: {accuracy:.3f}\\n')\n",
    "\n",
    "# 測試資料混淆矩陣\n",
    "# sns.heatmap(con_matrix.T, square=True, annot=True, fmt='d', cbar=False)\n",
    "# plt.xlabel('true label')\n",
    "# plt.ylabel('faldse label')\n",
    "\n",
    "# 檢視分類報告\n",
    "print('Classification Report:\\n')\n",
    "from sklearn.metrics import classification_report\n",
    "print(classification_report( y_test, y_pred))"
   ]
  },
  {
   "cell_type": "markdown",
   "metadata": {},
   "source": [
    "### RandomForest"
   ]
  },
  {
   "cell_type": "code",
   "execution_count": 79,
   "metadata": {},
   "outputs": [
    {
     "name": "stdout",
     "output_type": "stream",
     "text": [
      "Train data:\n",
      "\n",
      "Cross Validation Scores:[0.70212766 0.59574468 0.61702128 0.56521739 0.58695652]\n",
      "Mean_train  :0.613\n",
      "Std_train  :0.047\n",
      "\n",
      "--------------------------------------------------\n",
      "Test data:\n",
      "\n",
      "Accuracy_test: 0.576\n",
      "\n",
      "Classification Report:\n",
      "\n",
      "              precision    recall  f1-score   support\n",
      "\n",
      "           0       0.55      1.00      0.71        12\n",
      "           1       0.67      0.18      0.29        11\n",
      "           2       0.12      0.14      0.13         7\n",
      "           3       0.67      0.50      0.57        16\n",
      "           4       0.86      0.92      0.89        13\n",
      "\n",
      "    accuracy                           0.59        59\n",
      "   macro avg       0.57      0.55      0.52        59\n",
      "weighted avg       0.62      0.59      0.56        59\n",
      "\n"
     ]
    },
    {
     "data": {
      "text/plain": [
       "<AxesSubplot:>"
      ]
     },
     "execution_count": 79,
     "metadata": {},
     "output_type": "execute_result"
    },
    {
     "data": {
      "image/png": "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\n",
      "text/plain": [
       "<Figure size 576x396 with 1 Axes>"
      ]
     },
     "metadata": {},
     "output_type": "display_data"
    }
   ],
   "source": [
    " # 隨機森林迴歸分類器 \n",
    "from sklearn.ensemble import RandomForestClassifier\n",
    "from sklearn import preprocessing\n",
    "from sklearn.model_selection import train_test_split, cross_val_score\n",
    "from sklearn.metrics import  accuracy_score, confusion_matrix, mean_squared_error\n",
    "\n",
    "X_train, X_test, y_train, y_test = train_test_split(X, y, test_size=0.2, random_state=42 )\n",
    "scaler = preprocessing.StandardScaler().fit(X_train)\n",
    "X_train = scaler.transform(X_train)\n",
    "\n",
    "# max_depth=5, n_estimators=100\n",
    "model = RandomForestClassifier(n_jobs=-1)  # class_weight={ 'balanced','balanced_subsample'}\n",
    "model.fit(X_train, y_train)\n",
    "\n",
    "X_test = scaler.transform(X_test)\n",
    "y_pred = model.predict(X_test)\n",
    "\n",
    "# 訓練資料Cross Validation\n",
    "print('Train data:\\n')\n",
    "RF_scores = cross_val_score(model, X_train, y_train,\n",
    "                            scoring='accuracy', cv=5 )\n",
    "display_scores(RF_scores)\n",
    "\n",
    "print('-'*50)\n",
    "\n",
    "# 測試資料績效評估\n",
    "print('Test data:\\n')\n",
    "accuracy_test = accuracy_score(y_test, y_pred)\n",
    "num_correct_samples = accuracy_score(y_test, y_pred, normalize=False)\n",
    "con_matrix = confusion_matrix(y_test, y_pred)\n",
    "\n",
    "# print(f'Number of correct sample: {num_correct_samples}')\n",
    "print(f'Accuracy_test: {accuracy:.3f}\\n')\n",
    "\n",
    "# 測試集混淆矩陣\n",
    "# sns.heatmap(con_matrix.T, square=True, annot=True, fmt='d', cbar=False)\n",
    "# plt.xlabel('true label')\n",
    "# plt.ylabel('faldse label')\n",
    "\n",
    "# 檢視分類報告\n",
    "print('Classification Report:\\n')\n",
    "from sklearn.metrics import classification_report\n",
    "print(classification_report( y_test, y_pred))\n",
    "\n",
    "# 檢視特徵重要性\n",
    "feature_score = model.feature_importances_\n",
    "feature_import(feature_score)"
   ]
  },
  {
   "cell_type": "markdown",
   "metadata": {},
   "source": [
    "### SVM"
   ]
  },
  {
   "cell_type": "code",
   "execution_count": 80,
   "metadata": {},
   "outputs": [
    {
     "name": "stdout",
     "output_type": "stream",
     "text": [
      "Train data:\n",
      "\n",
      "Cross Validation Scores:[0.63829787 0.57446809 0.59574468 0.63043478 0.58695652]\n",
      "Mean_train  :0.605\n",
      "Std_train  :0.025\n",
      "\n",
      "--------------------------------------------------\n",
      "Test data:\n",
      "\n",
      "Accuracy_test: 0.576\n",
      "\n",
      "Classification Report:\n",
      "\n",
      "              precision    recall  f1-score   support\n",
      "\n",
      "           0       0.55      0.92      0.69        12\n",
      "           1       0.17      0.09      0.12        11\n",
      "           2       0.12      0.14      0.13         7\n",
      "           3       0.58      0.44      0.50        16\n",
      "           4       0.92      0.92      0.92        13\n",
      "\n",
      "    accuracy                           0.54        59\n",
      "   macro avg       0.47      0.50      0.47        59\n",
      "weighted avg       0.52      0.54      0.52        59\n",
      "\n"
     ]
    }
   ],
   "source": [
    "# SVM\n",
    "from sklearn.svm import SVC\n",
    "from sklearn import preprocessing\n",
    "from sklearn.model_selection import train_test_split,cross_val_score\n",
    "from sklearn.metrics import accuracy_score, confusion_matrix, mean_squared_error\n",
    "\n",
    "X_train, X_test, y_train, y_test = train_test_split(X, y, test_size=0.2, random_state=42 )\n",
    "scaler = preprocessing.StandardScaler().fit(X_train)\n",
    "X_train = scaler.transform(X_train)\n",
    "\n",
    "# we can change kernel to rbf, poly, linear\n",
    "model = SVC(kernel='rbf')\n",
    "# svm_reg = SVC(kernel='linear')\n",
    "model.fit(X_train, y_train)\n",
    "\n",
    "X_test = scaler.transform(X_test)\n",
    "y_pred = model.predict(X_test)\n",
    "\n",
    "# 訓練資料Cross Validation\n",
    "print('Train data:\\n')\n",
    "SVM_scores = cross_val_score(model, X_train, y_train,\n",
    "                             scoring='accuracy',cv=5 )\n",
    "display_scores(SVM_scores)\n",
    "\n",
    "print('-'*50)\n",
    "\n",
    "# 測試資料績效評估\n",
    "print('Test data:\\n')\n",
    "accuracy_test = accuracy_score(y_test, y_pred)\n",
    "num_correct_samples = accuracy_score(y_test, y_pred, normalize=False)\n",
    "con_matrix = confusion_matrix(y_test, y_pred)\n",
    "\n",
    "# print(f'Number of correct sample: {num_correct_samples}')\n",
    "print(f'Accuracy_test: {accuracy:.3f}\\n')\n",
    "\n",
    "# 測試集混淆矩陣\n",
    "# sns.heatmap(con_matrix.T, square=True, annot=True, fmt='d', cbar=False)\n",
    "# plt.xlabel('true label')\n",
    "# plt.ylabel('faldse label')\n",
    "\n",
    "# 檢視分類報告\n",
    "print('Classification Report:\\n')\n",
    "from sklearn.metrics import classification_report\n",
    "print(classification_report( y_test, y_pred))"
   ]
  },
  {
   "cell_type": "markdown",
   "metadata": {},
   "source": [
    "### GradientBoostingClassifier"
   ]
  },
  {
   "cell_type": "code",
   "execution_count": 81,
   "metadata": {},
   "outputs": [
    {
     "name": "stdout",
     "output_type": "stream",
     "text": [
      "Train data:\n",
      "\n",
      "Cross Validation Scores:[0.58490566 0.49056604 0.65384615 0.59615385 0.48076923]\n",
      "Mean_train  :0.561\n",
      "Std_train  :0.066\n",
      "\n",
      "--------------------------------------------------\n",
      "Test data:\n",
      "\n",
      "Accuracy_test: 0.576\n",
      "\n",
      "Classification Report:\n",
      "\n",
      "              precision    recall  f1-score   support\n",
      "\n",
      "           0       0.73      1.00      0.84         8\n",
      "           1       0.50      0.14      0.22         7\n",
      "           2       0.00      0.00      0.00         2\n",
      "           3       0.62      0.83      0.71         6\n",
      "           4       1.00      0.86      0.92         7\n",
      "\n",
      "    accuracy                           0.67        30\n",
      "   macro avg       0.57      0.57      0.54        30\n",
      "weighted avg       0.67      0.67      0.63        30\n",
      "\n"
     ]
    },
    {
     "data": {
      "text/plain": [
       "<AxesSubplot:>"
      ]
     },
     "execution_count": 81,
     "metadata": {},
     "output_type": "execute_result"
    },
    {
     "data": {
      "image/png": "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\n",
      "text/plain": [
       "<Figure size 576x396 with 1 Axes>"
      ]
     },
     "metadata": {},
     "output_type": "display_data"
    }
   ],
   "source": [
    "# GradientBoostingRegressor\n",
    "from sklearn.ensemble import GradientBoostingClassifier\n",
    "from sklearn import preprocessing\n",
    "from sklearn.model_selection import train_test_split,cross_val_score\n",
    "from sklearn.metrics import accuracy_score, confusion_matrix, mean_squared_error\n",
    "\n",
    "X_train, X_test, y_train, y_test = train_test_split(X, y, test_size=0.1, random_state=42)\n",
    "scaler = preprocessing.StandardScaler().fit(X_train)\n",
    "X_train = scaler.transform(X_train)\n",
    "\n",
    "model = GradientBoostingClassifier()\n",
    "model.fit(X_train, y_train)\n",
    "\n",
    "X_test = scaler.transform(X_test)\n",
    "y_pred = model.predict(X_test)\n",
    "\n",
    "\n",
    "# 訓練資料Cross Validation\n",
    "print('Train data:\\n')\n",
    "GBDT_scores = cross_val_score(model, X_train, y_train,\n",
    "                              scoring='accuracy', cv=5 )\n",
    "display_scores(GBDT_scores)\n",
    "\n",
    "print('-'*50)\n",
    "\n",
    "# 測試資料績效評估\n",
    "print('Test data:\\n')\n",
    "accuracy_test = accuracy_score(y_test, y_pred)\n",
    "num_correct_samples = accuracy_score(y_test, y_pred, normalize=False)\n",
    "con_matrix = confusion_matrix(y_test, y_pred)\n",
    "\n",
    "# print(f'Number of correct sample: {num_correct_samples}')\n",
    "print(f'Accuracy_test: {accuracy:.3f}\\n')\n",
    "\n",
    "# 測試集混淆矩陣\n",
    "# sns.heatmap(con_matrix.T, square=True, annot=True, fmt='d', cbar=False)\n",
    "# plt.xlabel('true label')\n",
    "# plt.ylabel('faldse label')\n",
    "\n",
    "# 檢視分類報告\n",
    "print('Classification Report:\\n')\n",
    "from sklearn.metrics import classification_report\n",
    "print(classification_report( y_test, y_pred))\n",
    "\n",
    "# 檢視特徵重要性\n",
    "feature_score = model.feature_importances_\n",
    "feature_import(feature_score)"
   ]
  },
  {
   "cell_type": "markdown",
   "metadata": {},
   "source": [
    "### 作圖比較各模型在Cross Validation後的評估分數"
   ]
  },
  {
   "cell_type": "code",
   "execution_count": 82,
   "metadata": {},
   "outputs": [
    {
     "data": {
      "image/png": "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\n",
      "text/plain": [
       "<Figure size 576x396 with 1 Axes>"
      ]
     },
     "metadata": {},
     "output_type": "display_data"
    }
   ],
   "source": [
    "from numpy import median,mean\n",
    "sns.set_theme(style=\"whitegrid\")\n",
    "\n",
    "data = {'Linear(SGD)' :SGD_scores,\n",
    "        'RF' :RF_scores,\n",
    "        'GBDT':GBDT_scores,\n",
    "        'SVM' :SVM_scores }\n",
    "\n",
    "df_CV =pd.DataFrame(data)\n",
    "\n",
    "ax = sns.barplot(data=df_CV, estimator=mean, ci=\"sd\",   )\n",
    "# y ='RMSE_Score'"
   ]
  },
  {
   "cell_type": "markdown",
   "metadata": {},
   "source": [
    "### 微調超參數\n",
    "- 隨機搜尋"
   ]
  },
  {
   "cell_type": "code",
   "execution_count": 74,
   "metadata": {},
   "outputs": [
    {
     "name": "stderr",
     "output_type": "stream",
     "text": [
      "C:\\ProgramData\\Anaconda3\\envs\\machine learning\\lib\\site-packages\\sklearn\\model_selection\\_search.py:918: UserWarning: One or more of the test scores are non-finite: [       nan 0.5798913         nan 0.55036232        nan 0.57554348\n",
      " 0.48913043 0.59257246        nan        nan        nan        nan\n",
      " 0.57572464 0.49384058        nan        nan 0.54057971 0.56286232\n",
      " 0.58007246 0.59275362        nan 0.58007246 0.55778986 0.56684783\n",
      "        nan        nan        nan        nan 0.58442029        nan]\n",
      "  warnings.warn(\n"
     ]
    },
    {
     "name": "stdout",
     "output_type": "stream",
     "text": [
      "nan {'class_weight': 'none', 'max_depth': 15, 'max_features': 'auto', 'n_estimators': 81}\n",
      "0.580 {'class_weight': 'balanced', 'max_depth': 7, 'max_features': 'sqrt', 'n_estimators': 476}\n",
      "nan {'class_weight': 'none', 'max_depth': 11, 'max_features': 'auto', 'n_estimators': 97}\n",
      "0.550 {'class_weight': 'balanced', 'max_depth': 4, 'max_features': 'sqrt', 'n_estimators': 673}\n",
      "nan {'class_weight': 'none', 'max_depth': 2, 'max_features': 'sqrt', 'n_estimators': 501}\n",
      "0.576 {'class_weight': 'balanced_subsample', 'max_depth': 6, 'max_features': 'sqrt', 'n_estimators': 201}\n",
      "0.489 {'class_weight': 'balanced', 'max_depth': 1, 'max_features': 'sqrt', 'n_estimators': 323}\n",
      "0.593 {'class_weight': 'balanced_subsample', 'max_depth': 12, 'max_features': 'auto', 'n_estimators': 570}\n",
      "nan {'class_weight': 'none', 'max_depth': 10, 'max_features': 'sqrt', 'n_estimators': 485}\n",
      "nan {'class_weight': 'none', 'max_depth': 15, 'max_features': 'sqrt', 'n_estimators': 572}\n",
      "nan {'class_weight': 'none', 'max_depth': 3, 'max_features': 'auto', 'n_estimators': 828}\n",
      "nan {'class_weight': 'none', 'max_depth': 9, 'max_features': 'auto', 'n_estimators': 283}\n",
      "0.576 {'class_weight': 'balanced', 'max_depth': 14, 'max_features': 'sqrt', 'n_estimators': 786}\n",
      "0.494 {'class_weight': 'balanced_subsample', 'max_depth': 2, 'max_features': 'sqrt', 'n_estimators': 101}\n",
      "nan {'class_weight': 'none', 'max_depth': 7, 'max_features': 'sqrt', 'n_estimators': 518}\n",
      "nan {'class_weight': 'none', 'max_depth': 3, 'max_features': 'sqrt', 'n_estimators': 90}\n",
      "0.541 {'class_weight': 'balanced_subsample', 'max_depth': 8, 'max_features': 'sqrt', 'n_estimators': 11}\n",
      "0.563 {'class_weight': 'balanced_subsample', 'max_depth': 6, 'max_features': 'sqrt', 'n_estimators': 115}\n",
      "0.580 {'class_weight': 'balanced_subsample', 'max_depth': 18, 'max_features': 'sqrt', 'n_estimators': 565}\n",
      "0.593 {'class_weight': 'balanced_subsample', 'max_depth': 10, 'max_features': 'sqrt', 'n_estimators': 279}\n",
      "nan {'class_weight': 'none', 'max_depth': 16, 'max_features': 'auto', 'n_estimators': 465}\n",
      "0.580 {'class_weight': 'balanced_subsample', 'max_depth': 8, 'max_features': 'auto', 'n_estimators': 729}\n",
      "0.558 {'class_weight': 'balanced', 'max_depth': 18, 'max_features': 'auto', 'n_estimators': 62}\n",
      "0.567 {'class_weight': 'balanced_subsample', 'max_depth': 13, 'max_features': 'auto', 'n_estimators': 166}\n",
      "nan {'class_weight': 'none', 'max_depth': 13, 'max_features': 'auto', 'n_estimators': 866}\n",
      "nan {'class_weight': 'none', 'max_depth': 9, 'max_features': 'sqrt', 'n_estimators': 138}\n",
      "nan {'class_weight': 'none', 'max_depth': 11, 'max_features': 'auto', 'n_estimators': 602}\n",
      "nan {'class_weight': 'none', 'max_depth': 3, 'max_features': 'auto', 'n_estimators': 388}\n",
      "0.584 {'class_weight': 'balanced', 'max_depth': 10, 'max_features': 'auto', 'n_estimators': 50}\n",
      "nan {'class_weight': 'none', 'max_depth': 9, 'max_features': 'sqrt', 'n_estimators': 789}\n",
      "RandomForestClassifier(class_weight='balanced_subsample', max_depth=10,\n",
      "                       max_features='sqrt', n_estimators=279, n_jobs=-1)\n"
     ]
    },
    {
     "data": {
      "text/plain": [
       "<AxesSubplot:>"
      ]
     },
     "execution_count": 74,
     "metadata": {},
     "output_type": "execute_result"
    },
    {
     "data": {
      "image/png": "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\n",
      "text/plain": [
       "<Figure size 576x396 with 1 Axes>"
      ]
     },
     "metadata": {},
     "output_type": "display_data"
    }
   ],
   "source": [
    "# RandomForestRegressor \n",
    "from sklearn.ensemble import RandomForestClassifier \n",
    "from sklearn import preprocessing\n",
    "from sklearn.model_selection import train_test_split, cross_val_score, GridSearchCV, RandomizedSearchCV\n",
    "from sklearn.metrics import  accuracy_score, confusion_matrix, mean_squared_error\n",
    "from scipy.stats import randint\n",
    "\n",
    "X_train, X_test, y_train, y_test = train_test_split(X, y, test_size=0.2, random_state=42,stratify=y)\n",
    "scaler = preprocessing.StandardScaler().fit(X_train)\n",
    "X_train = scaler.transform(X_train)\n",
    "\n",
    "param_distribs = {\n",
    "    'n_estimators': randint(low=10, high=10**3),\n",
    "    'max_features': ['auto', 'sqrt'],\n",
    "    'max_depth': randint(low=1, high=20),\n",
    "     'class_weight':['balanced','balanced_subsample','none']  #{“balanced”, “balanced_subsample”}\n",
    "    }\n",
    "\n",
    "forest_clf = RandomForestClassifier(n_jobs=-1)\n",
    "rnd_search = RandomizedSearchCV(forest_clf, param_distributions=param_distribs,\n",
    "                                n_iter=30, cv=10, scoring='accuracy',n_jobs=-1 , random_state=42)\n",
    "rnd_search.fit(X_train, y_train)\n",
    "\n",
    "cvres = rnd_search.cv_results_\n",
    "\n",
    "for mean_score, params in zip(cvres[\"mean_test_score\"], cvres[\"params\"]):\n",
    "    print(f'{mean_score:.3f}' , params)\n",
    "\n",
    "# 檢視最佳參數\n",
    "print(rnd_search.best_estimator_)\n",
    "\n",
    "# 檢視特徵重要性\n",
    "feature_importances = rnd_search.best_estimator_.feature_importances_\n",
    "feature_score = feature_importances\n",
    "feature_import(feature_score)"
   ]
  },
  {
   "cell_type": "code",
   "execution_count": 75,
   "metadata": {},
   "outputs": [
    {
     "name": "stdout",
     "output_type": "stream",
     "text": [
      "Test data:\n",
      "\n",
      "Accuracy_test: 0.576\n",
      "\n",
      "Classification Report:\n",
      "\n",
      "              precision    recall  f1-score   support\n",
      "\n",
      "           0       0.68      0.88      0.77        17\n",
      "           1       0.33      0.10      0.15        10\n",
      "           2       0.50      0.50      0.50         8\n",
      "           3       0.42      0.42      0.42        12\n",
      "           4       0.79      0.92      0.85        12\n",
      "\n",
      "    accuracy                           0.61        59\n",
      "   macro avg       0.54      0.56      0.54        59\n",
      "weighted avg       0.57      0.61      0.57        59\n",
      "\n"
     ]
    },
    {
     "data": {
      "text/plain": [
       "<AxesSubplot:>"
      ]
     },
     "execution_count": 75,
     "metadata": {},
     "output_type": "execute_result"
    },
    {
     "data": {
      "image/png": "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\n",
      "text/plain": [
       "<Figure size 576x396 with 1 Axes>"
      ]
     },
     "metadata": {},
     "output_type": "display_data"
    },
    {
     "data": {
      "image/png": "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\n",
      "text/plain": [
       "<Figure size 576x396 with 1 Axes>"
      ]
     },
     "metadata": {},
     "output_type": "display_data"
    }
   ],
   "source": [
    "# 產出最佳模型\n",
    "final_model = rnd_search.best_estimator_\n",
    "X_test = scaler.transform(X_test)\n",
    "y_pred = final_model.predict(X_test)\n",
    "\n",
    "# 測試資料績效評估\n",
    "print('Test data:\\n')\n",
    "accuracy_test = accuracy_score(y_test, y_pred)\n",
    "num_correct_samples = accuracy_score(y_test, y_pred, normalize=False)\n",
    "con_matrix = confusion_matrix(y_test, y_pred)\n",
    "\n",
    "# print(f'Number of correct sample: {num_correct_samples}')\n",
    "print(f'Accuracy_test: {accuracy:.3f}\\n')\n",
    "\n",
    "# 檢視分類報告\n",
    "print('Classification Report:\\n')\n",
    "from sklearn.metrics import classification_report\n",
    "print(classification_report( y_test, y_pred))\n",
    "\n",
    "# 測試集混淆矩陣\n",
    "sns.heatmap(con_matrix.T, square=True, annot=True, fmt='d', cbar=False)\n",
    "plt.xlabel('true label')\n",
    "plt.ylabel('faldse label')\n",
    "\n",
    "# 檢視特徵重要性\n",
    "feature_score = final_model.feature_importances_\n",
    "feature_import(feature_score)"
   ]
  },
  {
   "cell_type": "markdown",
   "metadata": {},
   "source": [
    "### Model persistence using joblib"
   ]
  },
  {
   "cell_type": "code",
   "execution_count": null,
   "metadata": {},
   "outputs": [],
   "source": [
    "# my_model = final_model\n",
    "# import joblib\n",
    "# joblib.dump(my_model, \"cafe_model_cla(nonVol).pkl\") # DIFF\n",
    "# #...\n",
    "# my_model_loaded = joblib.load(\"cafe_model_cla(nonVol).pkl\") # DIFF"
   ]
  },
  {
   "cell_type": "markdown",
   "metadata": {},
   "source": [
    "### 繪製學習曲線"
   ]
  },
  {
   "cell_type": "code",
   "execution_count": 83,
   "metadata": {},
   "outputs": [
    {
     "name": "stdout",
     "output_type": "stream",
     "text": [
      "Training sizes: [ 10  50 100 150 200] \n",
      "\n",
      "Training scores:\n",
      "  [[1. 1. 1. 1. 1.]\n",
      " [1. 1. 1. 1. 1.]\n",
      " [1. 1. 1. 1. 1.]\n",
      " [1. 1. 1. 1. 1.]\n",
      " [1. 1. 1. 1. 1.]] \n",
      "\n",
      "\n",
      "Test scores:\n",
      " [[0.28813559 0.27118644 0.27586207 0.44827586 0.4137931 ]\n",
      " [0.37288136 0.54237288 0.36206897 0.43103448 0.31034483]\n",
      " [0.42372881 0.45762712 0.53448276 0.5        0.4137931 ]\n",
      " [0.50847458 0.37288136 0.4137931  0.55172414 0.37931034]\n",
      " [0.52542373 0.50847458 0.48275862 0.53448276 0.37931034]] \n",
      "\n",
      "----------------------------------------------------------------------\n",
      "Mean training scores\n",
      "\n",
      " 10     1.0\n",
      "50     1.0\n",
      "100    1.0\n",
      "150    1.0\n",
      "200    1.0\n",
      "dtype: float64\n",
      "\n",
      " --------------------\n",
      "\n",
      "Mean validation scores\n",
      "\n",
      " 10     0.339451\n",
      "50     0.403741\n",
      "100    0.465926\n",
      "150    0.445237\n",
      "200    0.486090\n",
      "dtype: float64\n"
     ]
    }
   ],
   "source": [
    "from sklearn.model_selection import learning_curve\n",
    "\n",
    "train_sizes, train_scores, test_scores = learning_curve(\n",
    "    estimator = final_model, X=X, y=y, \n",
    "    train_sizes= [10, 50, 100, 150, 200], \n",
    "    scoring='accuracy', cv=5, n_jobs=-1)\n",
    "\n",
    "print('Training sizes:',train_sizes, '\\n') \n",
    "print('Training scores:\\n ',train_scores, '\\n')\n",
    "print('\\nTest scores:\\n',test_scores, '\\n')\n",
    "print( '-' * 70)\n",
    "\n",
    "train_scores_mean = train_scores.mean(axis = 1)\n",
    "test_scores_mean = test_scores.mean(axis = 1 )\n",
    "print('Mean training scores\\n\\n', pd.Series(train_scores_mean, index = train_sizes))\n",
    "print('\\n', '-' * 20) # separator\n",
    "print('\\nMean validation scores\\n\\n',pd.Series(test_scores_mean, index = train_sizes))"
   ]
  },
  {
   "cell_type": "code",
   "execution_count": 78,
   "metadata": {},
   "outputs": [
    {
     "data": {
      "text/plain": [
       "(0.0, 1.1)"
      ]
     },
     "execution_count": 78,
     "metadata": {},
     "output_type": "execute_result"
    },
    {
     "data": {
      "image/png": "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\n",
      "text/plain": [
       "<Figure size 576x396 with 1 Axes>"
      ]
     },
     "metadata": {},
     "output_type": "display_data"
    }
   ],
   "source": [
    "import matplotlib.pyplot as plt\n",
    "\n",
    "train_mean = np.mean(train_scores, axis=1)\n",
    "train_std = np.std(train_scores, axis=1)\n",
    "test_mean = np.mean(test_scores, axis=1)\n",
    "test_std = np.std(test_scores, axis=1)\n",
    "\n",
    "plt.style.use('seaborn')\n",
    "\n",
    "plt.plot(train_sizes, train_mean, color='blue' ,marker='o' ,markersize=5, label = 'Training Accuracy')\n",
    "plt.fill_between(train_sizes,\n",
    "                train_mean+train_std,\n",
    "                train_mean-train_std,\n",
    "                alpha=0.15,color='blue'\n",
    "                )\n",
    "plt.plot(train_sizes, test_mean, color='green' ,marker='s' ,markersize=5, linestyle='--',  label = 'Validation Accuracy')\n",
    "\n",
    "plt.fill_between(train_sizes,\n",
    "                test_mean+test_std,\n",
    "                test_mean-test_std,\n",
    "                alpha=0.15,color='green' \n",
    "                )\n",
    "\n",
    "plt.ylabel('Accuracy', fontsize = 14)\n",
    "plt.xlabel('Training set size', fontsize = 14)\n",
    "plt.title('Learning curves for RandomForest model', fontsize = 18, y = 1.03)\n",
    "plt.legend(loc='lower right')\n",
    "plt.ylim(0,1.1)"
   ]
  },
  {
   "cell_type": "markdown",
   "metadata": {},
   "source": [
    "## 用訓練出的模型取出預測值"
   ]
  },
  {
   "cell_type": "markdown",
   "metadata": {},
   "source": [
    "### 取出測試資料預測的y值"
   ]
  },
  {
   "cell_type": "code",
   "execution_count": null,
   "metadata": {},
   "outputs": [],
   "source": [
    "# 取出預測的y值， 注意這邊取得的預測值是最後跑的那個model\n",
    "index = y_test.index\n",
    "\n",
    "y_pred = pd.DataFrame( y_pred.reshape(-1,1).round(3), index=index, columns=['Prediction'])\n",
    "\n",
    "dataset = [df['Station_Name'], pd.DataFrame(y_test), y_pred ] \n",
    "\n",
    "df_y_pred = pd.concat(dataset, join='inner' , axis=1)\n",
    "\n",
    "# df_y_pred['P_Store'] = (df_y_pred['Prediction'] - df_y_pred[y.name]) \n",
    "# df_y_pred['Potential'] = (df_y_pred['Prediction'] - df_y_pred[y.name])/df_y_pred['Prediction']*100\n",
    "\n",
    "df_y_pred "
   ]
  },
  {
   "cell_type": "markdown",
   "metadata": {},
   "source": [
    "### 將模型套用在未營運的站點 取得預測值"
   ]
  },
  {
   "cell_type": "code",
   "execution_count": null,
   "metadata": {},
   "outputs": [],
   "source": [
    "from sklearn import preprocessing\n",
    "\n",
    "def get_pred_data():\n",
    "\n",
    "    df  = pd.read_csv( path+file ,encoding='utf-8')\n",
    "    model = final_model\n",
    "\n",
    "    # 將咖啡店數量資料轉為類別資料，分為5個等級\n",
    "    df['Num_Cafe'] = df['Num_Cafe'].astype(float)\n",
    "    df['Cat_Cafe'] = pd.qcut(df['Num_Cafe'], 5, labels=np.arange(5)) # np.arange(5) return 0~4\n",
    "    \n",
    "    X = df[feature_selected]\n",
    "\n",
    "    # 採用label encoder 將類別資料轉為數值型態\n",
    "#     label_encoder = preprocessing.LabelEncoder()\n",
    "#     encoded_S_Type = label_encoder.fit_transform(X['Station_Type'])\n",
    "#     X.loc[:,'Station_Type'] = encoded_S_Type.copy()\n",
    "\n",
    "    #正規化\n",
    "    X = scaler.transform(X)\n",
    "\n",
    "    # 設定要使用的模型， 注意這邊使用的model是最後跑的那個\n",
    "    y = model.predict(X)\n",
    "\n",
    "    y = pd.DataFrame(y.reshape(-1,1).round(0), index=df.index, columns=['Cat_Cafe_Pre']) #取整數\n",
    "\n",
    "    dataset = [df, y ] \n",
    "\n",
    "    df_pred = pd.concat(dataset, join='inner' , axis=1)\n",
    "    \n",
    "    #     將轉乘數量從LOG(base=e)轉換回去\n",
    "    import math\n",
    "    df_pred['Num_Transfer'] = (math.e)**(df_pred['Num_Transfer'])\n",
    "    \n",
    "#     增加展店潛力欄位\n",
    "    df_pred['Potential'] = df_pred['Cat_Cafe_Pre'].astype(float) - df_pred['Cat_Cafe'].astype(float)\n",
    "    df_pred['Cat_Cafe'] = df_pred['Cat_Cafe'].astype(float) # 轉成浮點數\n",
    "        \n",
    "    return df_pred\n",
    "\n",
    "get_pred_data()"
   ]
  },
  {
   "cell_type": "code",
   "execution_count": null,
   "metadata": {},
   "outputs": [],
   "source": [
    "# 檢視展店潛力\n",
    "df = get_pred_data()\n",
    "\n",
    "positive_Pot = df.loc[df['Potential']>0,'Station_Name']\n",
    "negative_Pot = df.loc[df['Potential']<0,'Station_Name']\n",
    "\n",
    "print(f'Positive_Potential:{positive_Pot.size} ,{positive_Pot.values}')\n",
    "print()\n",
    "print(f'Negative_Potential:{negative_Pot.size} ,{negative_Pot.values}')"
   ]
  },
  {
   "cell_type": "code",
   "execution_count": null,
   "metadata": {},
   "outputs": [],
   "source": [
    "import sys,os,time\n",
    "\n",
    "# Where to save the data\n",
    "PROJECT_ROOT_DIR = \"../\"\n",
    "dir_name = \"prediction_result/\"\n",
    "DATA_PATH = os.path.join(PROJECT_ROOT_DIR,dir_name)\n",
    "os.makedirs(DATA_PATH, exist_ok=True)\n",
    "\n",
    "def save_data(file_name):\n",
    "    df = get_pred_data().copy()\n",
    "    df.to_csv( DATA_PATH + file_name ,encoding='utf-8')\n",
    "    print(\"Saving DATA:\", file_name)\n",
    "  \n",
    "time =time.strftime("%y%m%d_%H%M")\n"
    "save_data('Cat_Cafe_Pre(nonVol)_{time}.csv')\n"
   ]
  },
  {
   "cell_type": "code",
   "execution_count": null,
   "metadata": {},
   "outputs": [],
   "source": [
    "df_pred = get_pred_data()\n",
    "print(df_pred.groupby('Cat_Cafe').size())\n",
    "print(df_pred.groupby('Cat_Cafe_Pre').size())"
   ]
  },
  {
   "cell_type": "code",
   "execution_count": null,
   "metadata": {},
   "outputs": [],
   "source": []
  }
 ],
 "metadata": {
  "kernelspec": {
   "display_name": "Python 3",
   "language": "python",
   "name": "python3"
  },
  "language_info": {
   "codemirror_mode": {
    "name": "ipython",
    "version": 3
   },
   "file_extension": ".py",
   "mimetype": "text/x-python",
   "name": "python",
   "nbconvert_exporter": "python",
   "pygments_lexer": "ipython3",
   "version": "3.8.5"
  }
 },
 "nbformat": 4,
 "nbformat_minor": 4
}
