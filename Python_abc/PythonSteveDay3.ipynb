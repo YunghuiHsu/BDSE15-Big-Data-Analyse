{
 "cells": [
  {
   "cell_type": "markdown",
   "metadata": {},
   "source": [
    "# Module_13_函數(Function)設計\n",
    "## 使用函數/函式的好處 :\n",
    ">### 軟體重複使用\n",
    ">### 功能切割，模組化，結構化\n",
    ">### 簡化程式提高程式的可讀性\n",
    ">### 易於維護及管理\n",
    ">### 讓程式偵錯更容易\n",
    "\n",
    "><img src=\".\\img\\func.png\"  style='height:450px; width:700px'>"
   ]
  },
  {
   "cell_type": "markdown",
   "metadata": {},
   "source": [
    "# Python 程式架構如下(直譯式 : 一行一行解譯):\n",
    ">### * 程式在一開始執行時, 作業系統會先去找 __main__ program,\n",
    ">### * 當一個程式一被 \"載入\" 時, 如果沒有 if __name__ == __main__: 會直接載如 \"執行\"\n",
    ">### 有了 if __name__..., OS知道不是 main , 就只 \"載入\" 等待呼叫"
   ]
  },
  {
   "cell_type": "code",
   "execution_count": null,
   "metadata": {},
   "outputs": [],
   "source": [
    "def hi():\n",
    "     print('hi')\n",
    "\n",
    "# #呼叫function\n",
    "print('hi return :', hi())"
   ]
  },
  {
   "cell_type": "code",
   "execution_count": null,
   "metadata": {},
   "outputs": [],
   "source": [
    "x = 10; y = 100\n",
    "def area(x, y):\n",
    "    print(\"面積：\", x * y)\n",
    "\n",
    "area(x, y)"
   ]
  },
  {
   "cell_type": "code",
   "execution_count": null,
   "metadata": {},
   "outputs": [],
   "source": [
    "# \"print\" is a function too\n",
    "# function always has reture value even none\n",
    "\n",
    "#物件導向是建置在以函數為基礎(function base)的環境\n",
    "# obj.xxx()\n",
    "'a, b, c'.split(',')  # method\n",
    "\n",
    "# xxx(obj)          # function\n",
    "sum([1,5,9])\n",
    "print('hello')"
   ]
  },
  {
   "cell_type": "code",
   "execution_count": null,
   "metadata": {
    "scrolled": true
   },
   "outputs": [],
   "source": [
    "# %run mod13/func_def1.py\n",
    "# Function definition\n",
    "import winsound\n",
    "\n",
    "class abc:\n",
    "    ''' This function print duck sound ''' \n",
    "    def make_a_sound():\n",
    "        ''' make a sound of quack '''\n",
    "        winsound.Beep(400, 1000)\n",
    "        print('quack')\n",
    "\n",
    "# Call function\n",
    "\n",
    "if __name__ == '__main__':\n",
    "    abc.make_a_sound()\n",
    "    print()\n",
    "    for i in range(3):\n",
    "        abc.make_a_sound()\n",
    "        \n",
    "    print()\n",
    "    \n",
    "    for _ in range(3):  #因為 i 沒用到\n",
    "        abc.make_a_sound()"
   ]
  },
  {
   "cell_type": "code",
   "execution_count": null,
   "metadata": {
    "scrolled": true
   },
   "outputs": [],
   "source": [
    "# same as shift tab\n",
    "abc.make_a_sound?"
   ]
  },
  {
   "cell_type": "code",
   "execution_count": 2,
   "metadata": {},
   "outputs": [
    {
     "name": "stdout",
     "output_type": "stream",
     "text": [
      "Object `abc` not found.\n"
     ]
    }
   ],
   "source": [
    "abc?"
   ]
  },
  {
   "cell_type": "code",
   "execution_count": null,
   "metadata": {},
   "outputs": [],
   "source": [
    "print?"
   ]
  },
  {
   "cell_type": "markdown",
   "metadata": {},
   "source": [
    "# 13-9, 10, 11"
   ]
  },
  {
   "cell_type": "markdown",
   "metadata": {},
   "source": [
    "## Python is call by assignment,  使用C的Call-by-value的風格"
   ]
  },
  {
   "cell_type": "code",
   "execution_count": null,
   "metadata": {},
   "outputs": [],
   "source": [
    "# %run mod13/argument1.py\n",
    "# not require return 'Global and local'\n",
    "# Function definition\n",
    "def changeme(myvar):\n",
    "    print('In function, before change\\t:', myvar)   # myvar = 20\n",
    "    print('myvar local id before change\\t:', id(myvar), '\\n')\n",
    "\n",
    "    myvar = 50                                      # only in local\n",
    "    print('In function, after change\\t:', myvar)    # myvar = 50 define myvar    \n",
    "    print('myvar local id after change\\t:', id(myvar), '\\n')\n",
    "    \n",
    "# Main Call function\n",
    "myvar = 20\n",
    "print('myvar global id\\t\\t\\t:', id(myvar), '\\n')\n",
    "changeme(myvar)\n",
    "print('Outside function\\t\\t:', myvar)               # var = 20\n",
    "print('Outside function\\t\\t:', id(myvar))           # var = 20"
   ]
  },
  {
   "cell_type": "markdown",
   "metadata": {},
   "source": [
    "![CallByValue](.\\img\\CallByValue3.png)"
   ]
  },
  {
   "cell_type": "code",
   "execution_count": null,
   "metadata": {
    "scrolled": true
   },
   "outputs": [],
   "source": [
    "# C 的指標陣列(array of pointer)\n",
    "# %run mod13/argument2.py\n",
    "# not require return 'Global and local'\n",
    "# Function definition\n",
    "def changeme(mylist):\n",
    "    print('myvar local id before change\\t:', id(mylist))\n",
    "    print('In function, before change\\t:', mylist, '\\n')\n",
    "    mylist[2] = 50\n",
    "    print('myvar local id after change\\t:', id(mylist))\n",
    "    print('In function, after change\\t:', mylist)\n",
    "\n",
    "# Main Call function\n",
    "mylist = [10, 20, 30]\n",
    "print('myvar global id\\t\\t\\t:', id(mylist))\n",
    "changeme(mylist)\n",
    "print('Outside function\\t\\t:',mylist)"
   ]
  },
  {
   "cell_type": "markdown",
   "metadata": {},
   "source": [
    "## 如果函數內沒有明確的使用return 敘述，預設為“return None”"
   ]
  },
  {
   "cell_type": "code",
   "execution_count": null,
   "metadata": {},
   "outputs": [],
   "source": [
    "# C 的指標陣列(array of pointer)\n",
    "# %run mod13/func_def2.py\n",
    "# Function definition\n",
    "\n",
    "def printme(pstr):\n",
    "    \"\"\"This function print a string\"\"\"\n",
    "    print(pstr)\n",
    "\n",
    "def sum_nums(n1, n2):\n",
    "    \"\"\"This function return sum of two numbers\"\"\"\n",
    "    return n1+n2, n1*n2                      # 可以使用元組(tuple) 格式傳回多個資料 return tuple, 2 values\n",
    "    \n",
    "# Call function\n",
    "a=printme('Hello Python')\n",
    "print('return :', a)\n",
    "printme('Python Programming\\n')\n",
    "\n",
    "total, multi = sum_nums(35, 20)\n",
    "\n",
    "print('sum_nums()\\t:',sum_nums(35, 20))\n",
    "print('total, multi\\t:',total, multi)"
   ]
  },
  {
   "cell_type": "markdown",
   "metadata": {},
   "source": [
    "---"
   ]
  },
  {
   "cell_type": "markdown",
   "metadata": {},
   "source": [
    "# Module_14_函數(Function)引數"
   ]
  },
  {
   "cell_type": "markdown",
   "metadata": {},
   "source": [
    "### p14-4 位置引數"
   ]
  },
  {
   "cell_type": "code",
   "execution_count": null,
   "metadata": {},
   "outputs": [],
   "source": [
    "# Function definition\n",
    "def printme(pstr):\n",
    "    print(pstr)\n",
    "\n",
    "# Call function\n",
    "printme('test')"
   ]
  },
  {
   "cell_type": "code",
   "execution_count": null,
   "metadata": {},
   "outputs": [],
   "source": [
    "def my_function(x, y, z=1.5):\n",
    "    if z > 1:\n",
    "        return z * (x + y)\n",
    "    else:\n",
    "        return z / (x + y)\n",
    "\n",
    "print(my_function(5, 6, z=0.7))\n",
    "print(my_function(3.14, 7, 3.5))\n",
    "print(my_function(10, 20))"
   ]
  },
  {
   "cell_type": "code",
   "execution_count": null,
   "metadata": {
    "scrolled": true
   },
   "outputs": [],
   "source": [
    "# 位置引數\n",
    "# %run mod14/require_arg.py\n",
    "# Function definition\n",
    "def area(length, width):  # parameter\n",
    "    return length*width\n",
    "\n",
    "# Call function\n",
    "result = area(15, 8)\n",
    "print('Area =', result)\n",
    "\n",
    "result = area(8)  # error. argument missing"
   ]
  },
  {
   "cell_type": "markdown",
   "metadata": {},
   "source": [
    "### p14-6 關鍵字引數"
   ]
  },
  {
   "cell_type": "code",
   "execution_count": null,
   "metadata": {},
   "outputs": [],
   "source": [
    "# 關鍵字引數\n",
    "# Function definition\n",
    "def printinfo(dbname, port):\n",
    "    print('DB Name:\\t', dbname)\n",
    "    print('Port:\\t\\t', port)\n",
    "\n",
    "# Call function\n",
    "printinfo('MSSQL', 1433)    # postional\n",
    "printinfo(port=3306, dbname='MySQL') # key word argumant"
   ]
  },
  {
   "cell_type": "code",
   "execution_count": null,
   "metadata": {
    "scrolled": true
   },
   "outputs": [],
   "source": [
    "# %run mod14/keyword_arg.py\n",
    "# Function definition\n",
    "def printinfo(name, age):\n",
    "    print('Name:\\t', name)\n",
    "    print('Age:\\t', age, '\\n')\n",
    "\n",
    "# MAIN\n",
    "# Call function\n",
    "printinfo('Harris', 40)          # positional \n",
    "printinfo(age=20, name='Mary')  # keyword"
   ]
  },
  {
   "cell_type": "markdown",
   "metadata": {},
   "source": [
    "### p14-7 預設引數"
   ]
  },
  {
   "cell_type": "code",
   "execution_count": null,
   "metadata": {},
   "outputs": [],
   "source": [
    "print('abc', end=' ')\n",
    "print(end=' ','abc')"
   ]
  },
  {
   "cell_type": "code",
   "execution_count": null,
   "metadata": {},
   "outputs": [],
   "source": [
    "def sum(a, b, c = 0):\n",
    "    return a + b + c\n",
    "\n",
    "sum(c = 30, a = 10, b = 20)"
   ]
  },
  {
   "cell_type": "code",
   "execution_count": null,
   "metadata": {},
   "outputs": [],
   "source": [
    "# 函式的參數\n",
    "def fun(s1, s2='world', count=1):\n",
    "    s = s1+' ' + s2+ '  '\n",
    "    print(s * count)\n",
    "\n",
    "fun('Hello')\n",
    "fun('Hi',' Jack')\n",
    "fun('Hi',' Jack', 2)\n",
    "fun('Hi', count=3)\n",
    "fun('Hi', count=3, s2='sky')"
   ]
  },
  {
   "cell_type": "code",
   "execution_count": null,
   "metadata": {},
   "outputs": [],
   "source": [
    "# Function definition\n",
    "def printinfo(tblname, dbname='MySQL', port=3306):\n",
    "    print('Table Name:\\t', tblname)\n",
    "    print('DB Name:\\t', dbname)\n",
    "    print('Port:\\t\\t', port, '\\n')\n",
    "\n",
    "printinfo('person')                            # 1 positional argument\n",
    "printinfo(tblname='person')                    # 1 keyword argument"
   ]
  },
  {
   "cell_type": "code",
   "execution_count": null,
   "metadata": {},
   "outputs": [],
   "source": [
    "printinfo(port=3330, tblname='products')    # 2 keyword arguments"
   ]
  },
  {
   "cell_type": "code",
   "execution_count": null,
   "metadata": {},
   "outputs": [],
   "source": [
    "printinfo('person', 'MSSQL', 1433)          # 3 positional arguments"
   ]
  },
  {
   "cell_type": "code",
   "execution_count": null,
   "metadata": {},
   "outputs": [],
   "source": [
    "printinfo('products', port=3330)            # 1 positional, 1 keyword "
   ]
  },
  {
   "cell_type": "code",
   "execution_count": null,
   "metadata": {},
   "outputs": [],
   "source": [
    "# %run mod14/default_arg.py\n",
    "# Function definition \n",
    "def printinfo(name, age=35):\n",
    "    print('Name:', name)\n",
    "    print('Age', age, '\\n')\n",
    "\n",
    "# MAIN\n",
    "# Call function\n",
    "printinfo(age=50, name='Calvin')   # age is 50\n",
    "printinfo(name='Calvin')           # age is 35"
   ]
  },
  {
   "cell_type": "markdown",
   "metadata": {},
   "source": [
    "### p14-9 預設引數 錯誤用法"
   ]
  },
  {
   "cell_type": "code",
   "execution_count": null,
   "metadata": {},
   "outputs": [],
   "source": [
    "# required argument missing\n",
    "def printinfo(name, age=35):\n",
    "    print('Name:', name)\n",
    "    print('Age', age)\n",
    "\n",
    "printinfo()  # error"
   ]
  },
  {
   "cell_type": "code",
   "execution_count": null,
   "metadata": {},
   "outputs": [],
   "source": [
    "# positional after keyword argument\n",
    "def printinfo(tblname, dbname='MySQL', port=3306):\n",
    "    print('Table Name:', tblname)\n",
    "    print('DB Name:', dbname)\n",
    "    print('Port:', port)\n",
    "    \n",
    "printinfo(port=8888, 'person')  "
   ]
  },
  {
   "cell_type": "code",
   "execution_count": null,
   "metadata": {},
   "outputs": [],
   "source": [
    "# duplicate arguments 2 tblnames\n",
    "def printinfo(tblname, dbname='MySQL', port=3306):\n",
    "    print('Table Name:', tblname)\n",
    "    print('DB Name:', dbname)\n",
    "    print('Port:', port)\n",
    "    \n",
    "printinfo('person', tblname='products')     "
   ]
  },
  {
   "cell_type": "markdown",
   "metadata": {},
   "source": [
    "# 14-11"
   ]
  },
  {
   "cell_type": "code",
   "execution_count": 8,
   "metadata": {},
   "outputs": [
    {
     "name": "stdout",
     "output_type": "stream",
     "text": [
      "(1, 2, 3, 4, 5)\n",
      "15\n"
     ]
    }
   ],
   "source": [
    "# 參數名稱前面加上*，可以接受所有剩餘的傳入資料(位置型參數)，產生元組 tuple\n",
    "\n",
    "def count(*add_all):    # *args\n",
    "    print(add_all)      #(1, 2, 3, 4, 5)\n",
    "    count = 0\n",
    "    for i in add_all:\n",
    "        count += i\n",
    "    return count\n",
    "\n",
    "print(count(1, 2, 3, 4, 5))"
   ]
  },
  {
   "cell_type": "code",
   "execution_count": null,
   "metadata": {},
   "outputs": [],
   "source": [
    "# Function definition varlen_arg.py\n",
    "def printinfo(arg1, *vartuple):\n",
    "    print('Output is: ')\n",
    "    print(arg1)\n",
    "    for var in vartuple:\n",
    "        print(var)\n",
    "    print()\n",
    "\n",
    "printinfo(10)\n",
    "printinfo(70, 60, 50, 40)"
   ]
  },
  {
   "cell_type": "code",
   "execution_count": 1,
   "metadata": {},
   "outputs": [
    {
     "name": "stdout",
     "output_type": "stream",
     "text": [
      "{'name': 'Tom', 'age': 30}\n",
      "<class 'dict'>\n"
     ]
    }
   ],
   "source": [
    "# 參數名稱前面加上**，可以接受所有剩餘的傳入資料(關鍵字參數)，產生字典\n",
    "\n",
    "def info(**dict):                # **kwargs\n",
    "    print(dict)                  # {'name': 'Tom', 'age': 30}\n",
    "    print(type(dict))            # dict\n",
    "    \n",
    "info(name=\"Tom\", age=30)"
   ]
  },
  {
   "cell_type": "code",
   "execution_count": 2,
   "metadata": {},
   "outputs": [
    {
     "name": "stdout",
     "output_type": "stream",
     "text": [
      "start= 1\n",
      "*args= (2, 3)\n",
      "**kwargs= {'a': 4, 'b': 5}\n"
     ]
    }
   ],
   "source": [
    "# start、args、kwargs 分別會得到什麼結果?\n",
    "\n",
    "def fun1(start, *args, **kwargs):\n",
    "    print(\"start=\", start)\n",
    "    print(\"*args=\", args)\n",
    "    print(\"**kwargs=\", kwargs)\n",
    "\n",
    "fun1(1, 2 ,3 , a=4, b=5)"
   ]
  },
  {
   "cell_type": "markdown",
   "metadata": {},
   "source": [
    "---"
   ]
  },
  {
   "cell_type": "markdown",
   "metadata": {},
   "source": [
    "# Module_15_匿名函數與變數可見度"
   ]
  },
  {
   "cell_type": "code",
   "execution_count": null,
   "metadata": {},
   "outputs": [],
   "source": [
    "sum_data = lambda arg1, arg2 : arg1+arg2   # like func (arg1, arg2) return arg1 + arg2\n",
    "print(sum_data(10, 20))"
   ]
  },
  {
   "cell_type": "code",
   "execution_count": null,
   "metadata": {},
   "outputs": [],
   "source": [
    "# need to compare to 三元運算  XX if yy else zz\n",
    "x = lambda a, b : a + b\n",
    "print(x(5, 9))"
   ]
  },
  {
   "cell_type": "code",
   "execution_count": null,
   "metadata": {},
   "outputs": [],
   "source": [
    "# lambda <args> : <return Value> if <condition> else <return value>)\n",
    "# need to compare to 三元運算  XX if yy else zz\n",
    "data = lambda x : x**2 if x > 3 else x**3\n",
    "print(data(2))"
   ]
  },
  {
   "cell_type": "code",
   "execution_count": null,
   "metadata": {},
   "outputs": [],
   "source": [
    "x = 4\n",
    "\n",
    "result= lambda x : 'x==3' if x==3 else 'x != 3'\n",
    "result(x)"
   ]
  },
  {
   "cell_type": "code",
   "execution_count": null,
   "metadata": {},
   "outputs": [],
   "source": [
    "[(lambda x: x*x)(x) for x in range(10) if x >5]"
   ]
  },
  {
   "cell_type": "code",
   "execution_count": null,
   "metadata": {},
   "outputs": [],
   "source": [
    "[x*x for x in range(10) if x >5]  # 另外寫法"
   ]
  },
  {
   "cell_type": "markdown",
   "metadata": {},
   "source": [
    "# 15-5"
   ]
  },
  {
   "cell_type": "code",
   "execution_count": null,
   "metadata": {},
   "outputs": [],
   "source": [
    "# function: return sum of two values\n",
    "def sum_data(a, b):\n",
    "    return a+b\n",
    "\n",
    "# function: using function as parameter\n",
    "def operate_on(x, y, func):   # func 是函數\n",
    "    return func(x, y)\n",
    "\n",
    "r = operate_on(16, 20, sum_data) # call function\n",
    "print('operate_on(16, 20, sum_data)\\t\\t= ',r)\n",
    "\n",
    "r = operate_on(10, 40, lambda a, b : a + b) # with lambda function\n",
    "print('operate_on(10, 40, anonymous_function)\\t= ', r)"
   ]
  },
  {
   "cell_type": "markdown",
   "metadata": {},
   "source": [
    "# 15-11"
   ]
  },
  {
   "cell_type": "code",
   "execution_count": null,
   "metadata": {},
   "outputs": [],
   "source": [
    "# mod15/global_var.py\n",
    "# Using global variable\n",
    "total = 0   # This is global variable\n",
    "\n",
    "# Function definition\n",
    "def sum_data(arg1, arg2):\n",
    "    total = arg1 + arg2; # total is local variable\n",
    "    # print 30\n",
    "    print('In function local total\\t\\t:', total)\n",
    "\n",
    "# MAIN    \n",
    "# Call function\n",
    "sum_data(10, 20)\n",
    "\n",
    "# print 0\n",
    "print('Outside function global total\\t:', total)"
   ]
  },
  {
   "cell_type": "markdown",
   "metadata": {},
   "source": [
    "# 15-12\n",
    "># local variables 可減少記憶體的使用"
   ]
  },
  {
   "cell_type": "code",
   "execution_count": 1,
   "metadata": {},
   "outputs": [
    {
     "name": "stdout",
     "output_type": "stream",
     "text": [
      "42\n",
      "42\n",
      "spam\n",
      "spam\n"
     ]
    }
   ],
   "source": [
    "# mod15/global_var.py\n",
    "# even you add return.  is it still local variable? check\n",
    "\n",
    "eggs = 42        # this is the global\n",
    "def ham():\n",
    "    print(eggs)  # this is the global\n",
    "\n",
    "def bacon():\n",
    "    eggs = 'bacon'   # local assign.  local variable  \n",
    "    \n",
    "def spam():\n",
    "    global eggs\n",
    "    eggs = 'spam'    # this is the global\n",
    "\n",
    "# ------- main program ---------\n",
    "ham()\n",
    "# print(id(eggs))\n",
    "\n",
    "bacon()\n",
    "print(eggs)      # 42\n",
    "\n",
    "spam()\n",
    "print(eggs)      # spam \n",
    "ham()"
   ]
  },
  {
   "cell_type": "code",
   "execution_count": 2,
   "metadata": {},
   "outputs": [
    {
     "name": "stdout",
     "output_type": "stream",
     "text": [
      "0 1 2 3 4 5 6 7 8 9 "
     ]
    },
    {
     "data": {
      "text/plain": [
       "9"
      ]
     },
     "execution_count": 2,
     "metadata": {},
     "output_type": "execute_result"
    }
   ],
   "source": [
    "for i in range(10):\n",
    "    print(i, end=' ')\n",
    "\n",
    "i  # it's still globle after for... loop"
   ]
  },
  {
   "cell_type": "markdown",
   "metadata": {},
   "source": [
    "---"
   ]
  },
  {
   "cell_type": "markdown",
   "metadata": {},
   "source": [
    "# Module_16_模組(Module)設計與使用\n",
    ">## class (類別) 跟 def 是組成模組功能的最基本架構\n",
    "![class](.\\img\\class.png)"
   ]
  },
  {
   "cell_type": "code",
   "execution_count": null,
   "metadata": {},
   "outputs": [],
   "source": [
    "# Python 完整程式 class 類別結構\n",
    "\n",
    "# import numpy\n",
    "# import pandas\n",
    "\n",
    "class abc :\n",
    "    ''' Beautiful is better than ugly.      優美勝於醜陋（Python 以編寫優美的代碼為目標）\n",
    "        Explicit is better than implicit.   明瞭勝於晦澀（優美的代碼應當是明瞭的，命名規範，風格相似)\n",
    "        Simple is better than complex.      簡潔勝於複雜（優美的代碼應當是簡潔的，不要有複雜的內部實現)\n",
    "        Complex is better than complicated. 複雜勝於淩亂（如果複雜不可避免，那代碼間也不能有難懂的關係，要保持介面簡潔）\n",
    "        Flat is better than nested.         扁平勝於嵌套（優美的代碼應當是扁平的，不能有太多的嵌套)\n",
    "        Sparse is better than dense.        間隔勝於緊湊（優美的代碼有適當的間隔，不要奢望一行代碼解決問題）\n",
    "        Readability counts                  可讀性很重要（優美的代碼是可讀的）\n",
    "        .....\n",
    "    '''\n",
    "    def __init__(self):\n",
    "        pass\n",
    "    def func(x):\n",
    "        ''' hello python '''\n",
    "        print('x = ', x)\n",
    "        return  \n",
    "\n",
    "    def func1():\n",
    "        '''python world'''\n",
    "        print('python world')\n",
    "    \n",
    "# ---------- main program -----------------    \n",
    "if __name__ == '__main__' :         # 供外部呼叫時使用\n",
    "    for x in range(5):    # x = 1 ~ 5 one by one\n",
    "        if x == 1:        # comments\n",
    "            abc.func(x)\n",
    "            abc.func1()"
   ]
  },
  {
   "cell_type": "code",
   "execution_count": 13,
   "metadata": {},
   "outputs": [
    {
     "name": "stdout",
     "output_type": "stream",
     "text": [
      "John \n",
      "\n",
      "18 \n",
      "\n",
      "talk self.name :  John\n",
      "Good !! \n",
      "\n",
      "say self.age   :  18\n",
      "Enjoy !!\n"
     ]
    },
    {
     "data": {
      "text/plain": [
       "'1234'"
      ]
     },
     "execution_count": 13,
     "metadata": {},
     "output_type": "execute_result"
    }
   ],
   "source": [
    "class jojo:\n",
    "    def __init__(self, name, age):\n",
    "        self.age = age\n",
    "        self.name = name\n",
    "        self.visa = '1234'\n",
    "        \n",
    "    def talk(self):\n",
    "        print('talk self.name : ', self.name)\n",
    "        return \"Good !!\"\n",
    "    \n",
    "    def say(self):\n",
    "        print('say self.age   : ', self.age)\n",
    "        return \"Enjoy !!\"https://www.facebook.com/#\n",
    "    \n",
    "John = jojo(name='John', age=27) # 宣告成新物件\n",
    "Mary = jojo(name='Mary', age=18) # 宣告成新物件\n",
    "\n",
    "print(John.name, '\\n')  # John -> self\n",
    "print(Mary.age, '\\n')\n",
    "print(John.talk(), '\\n')\n",
    "print(Mary.say())\n",
    "Mary.visa"
   ]
  },
  {
   "cell_type": "markdown",
   "metadata": {},
   "source": [
    "# 16-6 import support.py"
   ]
  },
  {
   "cell_type": "code",
   "execution_count": null,
   "metadata": {},
   "outputs": [],
   "source": [
    "# support.py\n",
    "# Module support defintion\n",
    "# def print_func(arg):\n",
    "#     \"\"\"Print Hello message to arg argument\"\"\"\n",
    "#     print (__name__)\n",
    "#     print ('Hello :',arg)\n",
    "\n",
    "# --------------------------\n",
    "# %run mod16/ex16_1.py   \n",
    "import sys\n",
    "sys.path.insert(1, './mod16')\n",
    "\n",
    "import support as up\n",
    "# call defined function \n",
    "up.print_func('Rose')\n",
    "\n",
    "print(__name__)"
   ]
  },
  {
   "cell_type": "markdown",
   "metadata": {},
   "source": [
    "# 16-8"
   ]
  },
  {
   "cell_type": "code",
   "execution_count": null,
   "metadata": {},
   "outputs": [],
   "source": [
    "import math\n",
    "dir(math)  # 列出所有的函數, "
   ]
  },
  {
   "cell_type": "code",
   "execution_count": null,
   "metadata": {},
   "outputs": [],
   "source": [
    "from math import cos  # 只匯入你會用到的那一個, 避免全部匯入, 變數同名相衝突\n",
    "print(cos(3.1416))\n",
    "# print(sin(3.1416))"
   ]
  },
  {
   "cell_type": "markdown",
   "metadata": {},
   "source": [
    "# 16-10 "
   ]
  },
  {
   "cell_type": "code",
   "execution_count": 2,
   "metadata": {},
   "outputs": [
    {
     "name": "stdout",
     "output_type": "stream",
     "text": [
      "__main__\n",
      "C:\\Users\\twyun\\OneDrive\\Documents\\資策會\\PythonOne-200817\\mod16\\bmi.py\n"
     ]
    },
    {
     "name": "stdin",
     "output_type": "stream",
     "text": [
      "Height(cm):  166\n",
      "Weight(kg):  78\n"
     ]
    },
    {
     "name": "stdout",
     "output_type": "stream",
     "text": [
      "BMI is  28.305995064595734\n"
     ]
    },
    {
     "ename": "ModuleNotFoundError",
     "evalue": "No module named 'bmi'",
     "output_type": "error",
     "traceback": [
      "\u001b[1;31m---------------------------------------------------------------------------\u001b[0m",
      "\u001b[1;31mModuleNotFoundError\u001b[0m                       Traceback (most recent call last)",
      "\u001b[1;32m<ipython-input-2-2afb19a07872>\u001b[0m in \u001b[0;36m<module>\u001b[1;34m\u001b[0m\n\u001b[0;32m      1\u001b[0m \u001b[0mget_ipython\u001b[0m\u001b[1;33m(\u001b[0m\u001b[1;33m)\u001b[0m\u001b[1;33m.\u001b[0m\u001b[0mrun_line_magic\u001b[0m\u001b[1;33m(\u001b[0m\u001b[1;34m'run'\u001b[0m\u001b[1;33m,\u001b[0m \u001b[1;34m'mod16/bmi.py'\u001b[0m\u001b[1;33m)\u001b[0m\u001b[1;33m\u001b[0m\u001b[1;33m\u001b[0m\u001b[0m\n\u001b[1;32m----> 2\u001b[1;33m \u001b[1;32mimport\u001b[0m \u001b[0mbmi\u001b[0m\u001b[1;33m\u001b[0m\u001b[1;33m\u001b[0m\u001b[0m\n\u001b[0m",
      "\u001b[1;31mModuleNotFoundError\u001b[0m: No module named 'bmi'"
     ]
    }
   ],
   "source": [
    "%run mod16/bmi.py\n",
    "import bmi"
   ]
  },
  {
   "cell_type": "markdown",
   "metadata": {},
   "source": [
    "---"
   ]
  },
  {
   "cell_type": "markdown",
   "metadata": {},
   "source": [
    "# Module_17_異常處理\n",
    ">## 異常是一個事件，該事件會在程序執行過程中發生，影響了程序的正常執行。\n",
    ">## 即使語法是正確的，但是在執行時仍可能會引發錯誤\n",
    ">## try -> except -> finally\n",
    ">## try -> else -> finally"
   ]
  },
  {
   "cell_type": "code",
   "execution_count": 11,
   "metadata": {},
   "outputs": [
    {
     "name": "stdin",
     "output_type": "stream",
     "text": [
      "Enter a number:  dfea\n"
     ]
    },
    {
     "ename": "NameError",
     "evalue": "name 'dfea' is not defined",
     "output_type": "error",
     "traceback": [
      "\u001b[1;31m---------------------------------------------------------------------------\u001b[0m",
      "\u001b[1;31mNameError\u001b[0m                                 Traceback (most recent call last)",
      "\u001b[1;32m<ipython-input-11-879460870bb6>\u001b[0m in \u001b[0;36m<module>\u001b[1;34m\u001b[0m\n\u001b[0;32m      1\u001b[0m \u001b[1;31m# 如果不處理\u001b[0m\u001b[1;33m\u001b[0m\u001b[1;33m\u001b[0m\u001b[1;33m\u001b[0m\u001b[0m\n\u001b[1;32m----> 2\u001b[1;33m \u001b[0mnum\u001b[0m \u001b[1;33m=\u001b[0m \u001b[0meval\u001b[0m\u001b[1;33m(\u001b[0m\u001b[0minput\u001b[0m\u001b[1;33m(\u001b[0m\u001b[1;34m'Enter a number: '\u001b[0m\u001b[1;33m)\u001b[0m\u001b[1;33m)\u001b[0m\u001b[1;33m\u001b[0m\u001b[1;33m\u001b[0m\u001b[0m\n\u001b[0m\u001b[0;32m      3\u001b[0m \u001b[0mprint\u001b[0m\u001b[1;33m(\u001b[0m\u001b[1;34m'value is'\u001b[0m\u001b[1;33m,\u001b[0m \u001b[0mnum\u001b[0m\u001b[1;33m)\u001b[0m\u001b[1;33m\u001b[0m\u001b[1;33m\u001b[0m\u001b[0m\n",
      "\u001b[1;32m<string>\u001b[0m in \u001b[0;36m<module>\u001b[1;34m\u001b[0m\n",
      "\u001b[1;31mNameError\u001b[0m: name 'dfea' is not defined"
     ]
    }
   ],
   "source": [
    "# 如果不處理    \n",
    "num = eval(input('Enter a number: '))\n",
    "print('value is', num)"
   ]
  },
  {
   "cell_type": "code",
   "execution_count": 12,
   "metadata": {},
   "outputs": [
    {
     "name": "stdin",
     "output_type": "stream",
     "text": [
      "Enter a number:  df\n"
     ]
    },
    {
     "name": "stdout",
     "output_type": "stream",
     "text": [
      "Error:  name 'df' is not defined\n"
     ]
    }
   ],
   "source": [
    "# exception\n",
    "try:\n",
    "    num = eval(input('Enter a number: '))\n",
    "    print('value is', num)    \n",
    "except NameError as e:\n",
    "    print('Error: ',e)"
   ]
  },
  {
   "cell_type": "markdown",
   "metadata": {},
   "source": [
    "# Python 標準異常\n",
    "#### https://codertw.com/%E7%A8%8B%E5%BC%8F%E8%AA%9E%E8%A8%80/373004/"
   ]
  },
  {
   "cell_type": "code",
   "execution_count": null,
   "metadata": {},
   "outputs": [],
   "source": [
    "# exception\n",
    "try:\n",
    "    n1,n2 = eval(input('Input two integers(n1,n2): '))\n",
    "    r = n1/n2\n",
    "    print('r =', r)    \n",
    "except SyntaxError:\n",
    "    print('Error: Please separate input data by comma!')\n",
    "except ZeroDivisionError:\n",
    "    print('Error: Devided by zero!')\n",
    "# except (SyntaxError, ZeroDivisionError):\n",
    "#     print('Error: Please separate input data by comma! or Devided by zero!')\n",
    "except:\n",
    "    print('Error: Input error!')\n",
    "else:\n",
    "    print('Else: No error !')\n",
    "finally:\n",
    "    print('finally')"
   ]
  },
  {
   "cell_type": "code",
   "execution_count": null,
   "metadata": {},
   "outputs": [],
   "source": [
    "# exception\n",
    "while True:\n",
    "    try:\n",
    "        lst1 = [1,2,3,4]\n",
    "        idx = int(input('Enter an index: '))\n",
    "        if not 0<=idx<4:\n",
    "            raise IndexError('Index out of range')\n",
    "        print('Value is',lst1[idx])\n",
    "        break\n",
    "    except IndexError as e:\n",
    "        print('Index Error :', e)"
   ]
  },
  {
   "cell_type": "markdown",
   "metadata": {},
   "source": [
    "---"
   ]
  },
  {
   "cell_type": "markdown",
   "metadata": {},
   "source": [
    "# Module_18_檔案的讀寫與組織管理\n",
    ">## 輸出(Output)到檔案, 從檔案輸入(Input)"
   ]
  },
  {
   "cell_type": "code",
   "execution_count": 20,
   "metadata": {},
   "outputs": [
    {
     "name": "stdout",
     "output_type": "stream",
     "text": [
      "Write two data to note.txt!\n",
      "Append one data to note.txt!\n"
     ]
    }
   ],
   "source": [
    "# file write\n",
    "\n",
    "fp = open('note.txt', 'w', encoding='utf-8') #  Unicode轉換格式（Unicode Transformation Format，簡稱為 UTF\n",
    "fp.write('資策會\\n')\n",
    "fp.write('iiiedu\\n')\n",
    "\n",
    "print('Write two data to note.txt!')\n",
    "fp.close()\n",
    "\n",
    "fp = open('note.txt', 'a')  # append\n",
    "fp.write('iii.com.tw\\n')   # 後來加入\n",
    "print('Append one data to note.txt!')\n",
    "\n",
    "print('iii.org.tw * iii.org.tw', file = fp)  # print 也行\n",
    "fp.close()"
   ]
  },
  {
   "cell_type": "code",
   "execution_count": 15,
   "metadata": {},
   "outputs": [
    {
     "name": "stdout",
     "output_type": "stream",
     "text": [
      "檔案開啟成功!!\n",
      "file name\t: note.txt\n",
      "file mode\t: r\n",
      "file encoding\t: utf-8\n",
      "file closed\t: False\n"
     ]
    }
   ],
   "source": [
    "# file informatin\n",
    "fp = open('note.txt', 'r', encoding='utf-8')\n",
    "# fp = open('PythonSteveDay1.ipynb')\n",
    "\n",
    "if fp :\n",
    "    print(\"檔案開啟成功!!\")\n",
    "    print('file name\\t:', fp.name)\n",
    "    print('file mode\\t:', fp.mode)  #r\n",
    "    print('file encoding\\t:',fp.encoding) #utf-8\n",
    "    print('file closed\\t:', fp.closed) #False\n",
    "\n",
    "fp.close() "
   ]
  },
  {
   "cell_type": "markdown",
   "metadata": {},
   "source": [
    "https://oxygentw.net/blog/computer/python-file-utf8-encoding/"
   ]
  },
  {
   "cell_type": "code",
   "execution_count": 24,
   "metadata": {},
   "outputs": [
    {
     "name": "stdout",
     "output_type": "stream",
     "text": [
      "Content(with new line):\n",
      "資策會\n",
      "iiiedu\n",
      "iii.com.tw\n",
      "iii.org.tw * iii.org.tw\n"
     ]
    }
   ],
   "source": [
    "# file read all  一次全部讀\n",
    "fp = open('note.txt', 'r', encoding='utf-8')\n",
    "print('Content(with new line):')\n",
    "\n",
    "for line in fp: \n",
    "    print(line)\n",
    "fp.close() "
   ]
  },
  {
   "cell_type": "code",
   "execution_count": 27,
   "metadata": {},
   "outputs": [
    {
     "name": "stdout",
     "output_type": "stream",
     "text": [
      "Content(no new line):\n",
      "資策會\n",
      "iiiedu\n",
      "iii.com.tw\n",
      "iii.org.tw * iii.org.tw\n",
      "\n"
     ]
    }
   ],
   "source": [
    "fp = open('note.txt', 'r',  encoding='utf-8')   \n",
    "print('Content(no new line):')\n",
    "\n",
    "for line in fp:   # fp.readlines\n",
    "    print(line, end='')    \n",
    "fp.close()\n",
    "print()"
   ]
  },
  {
   "cell_type": "code",
   "execution_count": 22,
   "metadata": {},
   "outputs": [
    {
     "name": "stdout",
     "output_type": "stream",
     "text": [
      "<_io.TextIOWrapper name='note.txt' mode='r' encoding='utf-8'>\n",
      "Content(readline):\n",
      "fd mode :  r \n",
      "\n",
      "資策會\n",
      "iiiedu\n",
      "iii.com.tw\n",
      "iii.org.tw * iii.org.tw\n"
     ]
    },
    {
     "data": {
      "text/plain": [
       "True"
      ]
     },
     "execution_count": 22,
     "metadata": {},
     "output_type": "execute_result"
    }
   ],
   "source": [
    "# 一次一行直到讀不到為止\n",
    "fp = open('note.txt', 'r', encoding='utf-8')\n",
    "print(fp)\n",
    "print('Content(readline):')\n",
    "print('fd mode : ', fp.mode, '\\n')\n",
    "\n",
    "while True: \n",
    "    line=fp.readline() # 一次一行\n",
    "    if not line:\n",
    "        break\n",
    "    print(line, end='')    \n",
    "fp.close()\n",
    "fp.closed  # check 檔案是否關閉"
   ]
  },
  {
   "cell_type": "code",
   "execution_count": 28,
   "metadata": {},
   "outputs": [
    {
     "name": "stdout",
     "output_type": "stream",
     "text": [
      "Content:\n",
      "資策會\n",
      "iiiedu\n",
      "iii.com.tw\n",
      "iii.org.tw * iii.org.tw\n",
      "\n"
     ]
    }
   ],
   "source": [
    "# With the \"with\" statement, you get better syntax and exceptions handling. \n",
    "# The with statement simplifies exception handling by encapsulating common\n",
    "# preparation and cleanup tasks.\n",
    "\n",
    "try:\n",
    "    fp = open('note.txt', 'r', encoding='utf-8')\n",
    "    data = fp.read()  # fp.read(6) 字節數量\n",
    "    print('Content:')\n",
    "    print(data) \n",
    "except:\n",
    "    print('Error: File I/O error!')\n",
    "finally:\n",
    "    fp.close()"
   ]
  },
  {
   "cell_type": "code",
   "execution_count": 30,
   "metadata": {},
   "outputs": [
    {
     "name": "stdout",
     "output_type": "stream",
     "text": [
      "Content:\n",
      "資策會\n",
      "iiiedu\n",
      "iii.com.tw\n",
      "iii.org.tw * iii.org.tw\n",
      "\n"
     ]
    }
   ],
   "source": [
    "with open('note.txt', 'r', encoding='utf-8') as fp:\n",
    "    data = fp.read()\n",
    "    print('Content:')\n",
    "    print(data)"
   ]
  },
  {
   "cell_type": "code",
   "execution_count": 33,
   "metadata": {},
   "outputs": [
    {
     "name": "stdout",
     "output_type": "stream",
     "text": [
      "Content(no new line):\n",
      "資策會\n",
      "iiiedu\n",
      "iii.com.tw\n",
      "iii.org.tw * iii.org.tw\n"
     ]
    }
   ],
   "source": [
    "# file read\n",
    "fname='note.txt'\n",
    "\n",
    "with open(fname, 'r', encoding='utf-8') as fp:\n",
    "    print('Content(no new line):')\n",
    "\n",
    "    for line in fp:\n",
    "        print(line, end='') "
   ]
  },
  {
   "cell_type": "code",
   "execution_count": null,
   "metadata": {},
   "outputs": [],
   "source": []
  }
 ],
 "metadata": {
  "kernelspec": {
   "display_name": "Python 3",
   "language": "python",
   "name": "python3"
  },
  "language_info": {
   "codemirror_mode": {
    "name": "ipython",
    "version": 3
   },
   "file_extension": ".py",
   "mimetype": "text/x-python",
   "name": "python",
   "nbconvert_exporter": "python",
   "pygments_lexer": "ipython3",
   "version": "3.8.5"
  }
 },
 "nbformat": 4,
 "nbformat_minor": 4
}
