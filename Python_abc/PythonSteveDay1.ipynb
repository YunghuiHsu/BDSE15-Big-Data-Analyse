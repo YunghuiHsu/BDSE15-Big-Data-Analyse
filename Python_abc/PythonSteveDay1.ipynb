{
 "cells": [
  {
   "cell_type": "markdown",
   "metadata": {},
   "source": [
    "# Module_00 課程簡介--Python先修\n",
    ">### CoreLab Web : http://colab.iiiedu.org.tw  註冊帳戶, 登入姓名請用中文全名, 因會影響考試成績之辨識。\n",
    ">### 課程名稱 : DEM5121 - Python程式設計 (8/17 ~ 8/19)\n",
    ">### 邀請碼 : dzqKaP (注意大小寫)\n",
    "---\n",
    ">### 1.  課堂上多思考程式邏輯\n",
    ">### 2.  座位固定 (可協調後換座位)\n",
    ">### 3.  多參加線上社團學習, 如 FB-python Taiwan....etc.\n",
    "---"
   ]
  },
  {
   "cell_type": "markdown",
   "metadata": {},
   "source": [
    "><img src=\".\\img\\pythonLogo.png\"  style='height:400px; width:900px'></img>\n",
    "## 程式語言的成長趨勢\n",
    "><img src=\".\\img\\PythonTrend.png\"  style='height:450px; width:900px'>\n",
    "><img src=\".\\img\\PythonTrend01.png\"  style='height:450px; width:900px'>"
   ]
  },
  {
   "cell_type": "markdown",
   "metadata": {},
   "source": [
    "---"
   ]
  },
  {
   "cell_type": "markdown",
   "metadata": {},
   "source": [
    "# 0-3, Python 特色\n",
    ">### 1. 物件導向式語言架構(Object-Oriented Program Language)\n",
    ">### 2. 直譯式, 又稱作腳本語言(Scripting language)\n",
    ">### 3. 省略變數類型宣告動作\n",
    ">### 4. 自動化的記憶體管理\n",
    ">### 5. 內建許多高階實用的資料型態, 提供許多標準函式庫及第三方套件(package)\n",
    ">### 6. 跨平台與圖形介面延伸, 膠水語言(glue language)，能與其他語言結合\n",
    ">### 7. 優雅簡潔，易學易用"
   ]
  },
  {
   "cell_type": "markdown",
   "metadata": {},
   "source": [
    "---"
   ]
  },
  {
   "cell_type": "markdown",
   "metadata": {},
   "source": [
    "# Python2.X\n",
    ">## 穩定版本\n",
    ">## version2.7 為最終版本(2020-01-01 終止支援)\n",
    "\n",
    "# Python3.X\n",
    ">## 現在進行式同時也是未來趨勢\n",
    ">## 活絡發展中\n",
    ">## 對初學者較友善"
   ]
  },
  {
   "cell_type": "markdown",
   "metadata": {},
   "source": [
    "---"
   ]
  },
  {
   "cell_type": "markdown",
   "metadata": {},
   "source": [
    "# Python 科學堆疊\n",
    "><img src=\".\\img\\scipy-stack.png\"  style='height:400px; width:900px'>\n",
    "### https://pypi.org/"
   ]
  },
  {
   "cell_type": "markdown",
   "metadata": {},
   "source": [
    "---"
   ]
  },
  {
   "cell_type": "markdown",
   "metadata": {},
   "source": [
    "# Module_01_Python簡介"
   ]
  },
  {
   "cell_type": "markdown",
   "metadata": {},
   "source": [
    ">## Top IDEs (Integrated Development Environment) for Text Editor\n",
    "\n",
    "><img src=\".\\img\\mostide01.jpg\" style='height:550px; width:900px'>"
   ]
  },
  {
   "cell_type": "markdown",
   "metadata": {},
   "source": [
    "# IDE (開發工具箱)\n",
    ">## IDLE (Python 提供的)\n",
    ">## VS code\n",
    ">## Jupyter lab (網站架構<HTML>) "
   ]
  },
  {
   "cell_type": "markdown",
   "metadata": {},
   "source": [
    "# Top Python IDEs for Data Science in 2019\n",
    "><img src=\".\\img\\mostIde.jpg\"  style='height:550px; width:900px'>"
   ]
  },
  {
   "cell_type": "markdown",
   "metadata": {},
   "source": [
    "# 電腦硬體基本架構 : CPU, Memory, I/O\n",
    "><img src=\".\\img\\computerHW.jpg\"  style='height:350px; width:900px'>"
   ]
  },
  {
   "cell_type": "markdown",
   "metadata": {},
   "source": [
    "# 原始碼(source code)、位元組碼(byte code)、機械碼(machine code)"
   ]
  },
  {
   "cell_type": "markdown",
   "metadata": {},
   "source": [
    "><img src=\".\\img\\Py-pyc03.png\"  style='height:450px; width:900px'>"
   ]
  },
  {
   "cell_type": "markdown",
   "metadata": {},
   "source": [
    "# 1-10 安裝 Python, VS code\n",
    ">## 硬碟檢視\n",
    ">## Python : Download 64位元 Windows x86-64 executable installer\n",
    ">## 安裝參考講義 1-10\n",
    "><img src=\".\\img\\pythonInstall01.jpg\"  style='height:350px; width:900px'>"
   ]
  },
  {
   "cell_type": "markdown",
   "metadata": {},
   "source": [
    "### 1-10 python document\n",
    "\n",
    ">#### https://docs.python.org/3/\n",
    ">#### PEP 8 Tab and space\n",
    ">#### Google \"buildin function\" "
   ]
  },
  {
   "cell_type": "markdown",
   "metadata": {},
   "source": [
    "# IDLE & VScode\n",
    ">### https://code.visualstudio.com/download\n",
    ">### VSCodeUserSetup-x64-1.45.1.exe\n",
    ">### ctrl + shift + p, python interpreter"
   ]
  },
  {
   "cell_type": "markdown",
   "metadata": {},
   "source": [
    "# Using Jupyter Lab\n",
    "\n",
    ">## Note :\n",
    ">#### 1.  Ipython 就是 Jupyter Python 的 Kernal (ipython : 互動式)\n",
    ">#### 2.  在 (Windows PowerShell 系統管理員)身分下打 pip install jupyterlab 指令(灌程式)\n",
    ">#### 3.  在 (Windows PowerShell 一般身分)下打 jupyter lab (執行程式)(shell> jupyter lab)\n",
    ">#### 4.  or install Anaconda ( :>jupyter notebook) (暫不建議, 為了維持一套 python 在電腦中)\n",
    "https://medium.com/python4u/jupyter-notebook%E5%AE%8C%E6%95%B4%E4%BB%8B%E7%B4%B9%E5%8F%8A%E5%AE%89%E8%A3%9D%E8%AA%AA%E6%98%8E-b8fcadba15f"
   ]
  },
  {
   "cell_type": "markdown",
   "metadata": {},
   "source": [
    "---"
   ]
  },
  {
   "cell_type": "code",
   "execution_count": null,
   "metadata": {},
   "outputs": [],
   "source": [
    "!jupyter --version"
   ]
  },
  {
   "cell_type": "code",
   "execution_count": null,
   "metadata": {},
   "outputs": [],
   "source": [
    "import sys\n",
    "sys.version"
   ]
  },
  {
   "cell_type": "code",
   "execution_count": null,
   "metadata": {},
   "outputs": [],
   "source": [
    "help(print)  # shift + tab,  see whatever you want to check.  change 'len' in quotation."
   ]
  },
  {
   "cell_type": "code",
   "execution_count": null,
   "metadata": {},
   "outputs": [],
   "source": [
    "len?"
   ]
  },
  {
   "cell_type": "code",
   "execution_count": null,
   "metadata": {},
   "outputs": [],
   "source": [
    "L = [1, 2, 3]\n",
    "len(L)"
   ]
  },
  {
   "cell_type": "code",
   "execution_count": null,
   "metadata": {},
   "outputs": [],
   "source": [
    "# show 位元碼\n",
    "import dis\n",
    "def add(a,b):\n",
    "    return a+b\n",
    "add.__code__.co_code\n",
    "# print(add.__code__.co_code)\n",
    "dis.dis(add)"
   ]
  },
  {
   "cell_type": "markdown",
   "metadata": {},
   "source": [
    "# Module_02_認識變數與基本數學運算\n",
    "\n",
    ">### 特此申明 : 在Jupyter 中盡量不要用 print 指令，但為了初學者容易閱讀起見, 不得已我們會用一些\n",
    ">### 原因如下: y 是 '數字' 還是 '文字' 傻傻分不清"
   ]
  },
  {
   "cell_type": "code",
   "execution_count": null,
   "metadata": {},
   "outputs": [],
   "source": [
    "y = '5'\n",
    "print(y)   # y 數字還是文字傻傻分不清\n",
    "y   "
   ]
  },
  {
   "cell_type": "code",
   "execution_count": null,
   "metadata": {},
   "outputs": [],
   "source": [
    "print('Python is simple; '*4 ,'enjoy!')  # print就是一函數(函式), "
   ]
  },
  {
   "cell_type": "markdown",
   "metadata": {},
   "source": [
    "## 2-2 keyword list"
   ]
  },
  {
   "cell_type": "code",
   "execution_count": null,
   "metadata": {},
   "outputs": [],
   "source": [
    "import keyword\n",
    "print(keyword.kwlist, '\\n')\n",
    "\n",
    "# list all built-in keywords\n",
    "print(vars(__builtin__).keys(),)"
   ]
  },
  {
   "cell_type": "code",
   "execution_count": null,
   "metadata": {},
   "outputs": [],
   "source": [
    "# 關鍵字拿去用會有問題\n",
    "print=1  \n",
    "print('abc')  # error"
   ]
  },
  {
   "cell_type": "code",
   "execution_count": null,
   "metadata": {},
   "outputs": [],
   "source": [
    "del print  # del = bash unset\n",
    "print('abc')"
   ]
  },
  {
   "cell_type": "code",
   "execution_count": null,
   "metadata": {},
   "outputs": [],
   "source": [
    "999**999  # INT no overflow"
   ]
  },
  {
   "cell_type": "code",
   "execution_count": null,
   "metadata": {},
   "outputs": [],
   "source": [
    "999.**999 # floating overflow"
   ]
  },
  {
   "cell_type": "code",
   "execution_count": null,
   "metadata": {},
   "outputs": [],
   "source": [
    "# max floating number\n",
    "import sys\n",
    "sys.float_info.max"
   ]
  },
  {
   "cell_type": "markdown",
   "metadata": {},
   "source": [
    "## 2-5"
   ]
  },
  {
   "cell_type": "code",
   "execution_count": null,
   "metadata": {},
   "outputs": [],
   "source": [
    "print(50)"
   ]
  },
  {
   "cell_type": "code",
   "execution_count": null,
   "metadata": {},
   "outputs": [],
   "source": [
    "name = 'John'\n",
    "name"
   ]
  },
  {
   "cell_type": "code",
   "execution_count": null,
   "metadata": {},
   "outputs": [],
   "source": [
    "miles = 477.5\n",
    "miles"
   ]
  },
  {
   "cell_type": "code",
   "execution_count": null,
   "metadata": {},
   "outputs": [],
   "source": [
    "a, b, c = 1, 2., \"John\"\n",
    "print(a, b, c)\n",
    "a, b, c  # tuple"
   ]
  },
  {
   "cell_type": "code",
   "execution_count": null,
   "metadata": {},
   "outputs": [],
   "source": [
    "# 練習\n",
    "# print (......) # str, int float"
   ]
  },
  {
   "cell_type": "code",
   "execution_count": null,
   "metadata": {},
   "outputs": [],
   "source": [
    "print(+7); print(++7)\n",
    "print(12+34)\n",
    "print(9**2)\n",
    "print(9//2)  # 整數除法\n",
    "print(-9//2) # ??? what happen??  地板式整除"
   ]
  },
  {
   "cell_type": "code",
   "execution_count": null,
   "metadata": {},
   "outputs": [],
   "source": [
    "print('17*6\\t=', 17*6)\n",
    "print('17*6\\t=', 17*6, '\\t17%6 = ', 17%6)\n",
    "print()  # 下一行\n",
    "print('17*6\\t=', 17*6, '\\n')  # '\\n'\n",
    "print('17/6\\t=', 17*6, '\\t17%6 = ', 17%6)"
   ]
  },
  {
   "cell_type": "code",
   "execution_count": null,
   "metadata": {},
   "outputs": [],
   "source": [
    "a = 5; b = 3; a = a/b\n",
    "a"
   ]
  },
  {
   "cell_type": "code",
   "execution_count": null,
   "metadata": {},
   "outputs": [],
   "source": [
    "a = 5; b = 2\n",
    "a = a + b  # a += b  # 初學者不建議這種寫法\n",
    "print(a)"
   ]
  },
  {
   "cell_type": "code",
   "execution_count": null,
   "metadata": {},
   "outputs": [],
   "source": [
    "a=5; b=2\n",
    "a, b = b, a\n",
    "print(a)    \n",
    "print(b)    "
   ]
  },
  {
   "cell_type": "markdown",
   "metadata": {},
   "source": [
    "# 2-9"
   ]
  },
  {
   "cell_type": "code",
   "execution_count": null,
   "metadata": {},
   "outputs": [],
   "source": [
    "12/6   # int / int = float, not in java"
   ]
  },
  {
   "cell_type": "code",
   "execution_count": null,
   "metadata": {},
   "outputs": [],
   "source": [
    "5*7 # try 5.0"
   ]
  },
  {
   "cell_type": "code",
   "execution_count": null,
   "metadata": {},
   "outputs": [],
   "source": [
    "17%6  # try 17.0"
   ]
  },
  {
   "cell_type": "code",
   "execution_count": null,
   "metadata": {},
   "outputs": [],
   "source": [
    "-9//2 # try -9/2,  floored"
   ]
  },
  {
   "cell_type": "markdown",
   "metadata": {},
   "source": [
    "# 2-11"
   ]
  },
  {
   "cell_type": "code",
   "execution_count": null,
   "metadata": {},
   "outputs": [],
   "source": [
    "a = 5\n",
    "a+=7  # a = a + 1\n",
    "a\n",
    "#try a-=7,  a*=7, a/=7"
   ]
  },
  {
   "cell_type": "code",
   "execution_count": null,
   "metadata": {},
   "outputs": [],
   "source": [
    "++9"
   ]
  },
  {
   "cell_type": "code",
   "execution_count": null,
   "metadata": {},
   "outputs": [],
   "source": [
    "-+9"
   ]
  },
  {
   "cell_type": "code",
   "execution_count": null,
   "metadata": {},
   "outputs": [],
   "source": [
    "9++"
   ]
  },
  {
   "cell_type": "code",
   "execution_count": null,
   "metadata": {},
   "outputs": [],
   "source": [
    "# colab ch02\n",
    "print(f'{2**0.5:.6f}')  # 8.6f or .6f"
   ]
  },
  {
   "cell_type": "markdown",
   "metadata": {},
   "source": [
    "---"
   ]
  },
  {
   "cell_type": "markdown",
   "metadata": {},
   "source": [
    "# Module_03_Python數值資料型態"
   ]
  },
  {
   "cell_type": "markdown",
   "metadata": {},
   "source": [
    ">## Object(物件) 三要件 : \n",
    ">>### 1.  type (int, float, str...),\n",
    ">>### 2.  id (記憶體位置),\n",
    ">>### 3.  value (1, 2.0, 'john')"
   ]
  },
  {
   "cell_type": "markdown",
   "metadata": {},
   "source": [
    ">>![memoryIndex](.\\img\\memoryIndex01.png)\n",
    ">>![memoryIndex](.\\img\\memoryIndex02.jpg)"
   ]
  },
  {
   "cell_type": "code",
   "execution_count": null,
   "metadata": {},
   "outputs": [],
   "source": [
    "a = 7; b = 7.\n",
    "# type\n",
    "print('type(a)\\t=', type(a))\n",
    "print('type(b)\\t=', type(b))\n",
    "print(type(a)==type(b),'\\n')\n",
    "\n",
    "# memory address\n",
    "print('id(a)\\t:', id(a))        # 記憶體位置 memory address\n",
    "print('id(b)\\t:', id(b))  # 記憶體位置 memory address\n",
    "print(id(a)==id(b),'\\n')\n",
    "\n",
    "# values\n",
    "print('a\\t=', a)\n",
    "print('b\\t=', b)\n",
    "print(a==b,'\\n')"
   ]
  },
  {
   "cell_type": "markdown",
   "metadata": {},
   "source": [
    "# 3-4 Python no Boolean.  It is 整數的子型態(subtpye of integers)\n",
    ">## True = 1, False = 0"
   ]
  },
  {
   "cell_type": "code",
   "execution_count": null,
   "metadata": {},
   "outputs": [],
   "source": [
    "1 + True"
   ]
  },
  {
   "cell_type": "code",
   "execution_count": null,
   "metadata": {},
   "outputs": [],
   "source": [
    "1 + False"
   ]
  },
  {
   "cell_type": "code",
   "execution_count": null,
   "metadata": {},
   "outputs": [],
   "source": [
    "True + True"
   ]
  },
  {
   "cell_type": "markdown",
   "metadata": {},
   "source": [
    "# 3-5"
   ]
  },
  {
   "cell_type": "code",
   "execution_count": null,
   "metadata": {},
   "outputs": [],
   "source": [
    "print(int(12.6))\n",
    "print(str(12.6))\n",
    "print(float(12))\n",
    "print(complex(12))\n",
    "print(complex(12,3))\n",
    "str(12.6)"
   ]
  },
  {
   "cell_type": "markdown",
   "metadata": {},
   "source": [
    "# 3-6"
   ]
  },
  {
   "cell_type": "code",
   "execution_count": null,
   "metadata": {},
   "outputs": [],
   "source": [
    "0b11 # binary"
   ]
  },
  {
   "cell_type": "code",
   "execution_count": null,
   "metadata": {},
   "outputs": [],
   "source": [
    "0o33 # octal"
   ]
  },
  {
   "cell_type": "code",
   "execution_count": null,
   "metadata": {},
   "outputs": [],
   "source": [
    "0x1a # hexadecimal"
   ]
  },
  {
   "cell_type": "markdown",
   "metadata": {},
   "source": [
    ">![binary](.\\img\\binary01.png)"
   ]
  },
  {
   "cell_type": "code",
   "execution_count": null,
   "metadata": {},
   "outputs": [],
   "source": [
    "a = 20\n",
    "print(F' type(a) = {type(a)}\\n')\n",
    "\n",
    "print(f'float\\t\\t: {a:3.2f}')\n",
    "print(f'binary\\t\\t: {a:b}')\n",
    "print(f'octal\\t\\t: {a:o}')\n",
    "print(f'hex\\t\\t: {a:x}\\n')"
   ]
  },
  {
   "cell_type": "code",
   "execution_count": null,
   "metadata": {},
   "outputs": [],
   "source": [
    "a = 7;  b = a\n",
    "\n",
    "print('id(a)\\t:', id(a))\n",
    "print('id(b)\\t:', id(b), '\\n')\n",
    "\n",
    "b = 20\n",
    "print('id(b)\\t:', id(b))\n",
    "print(id(a) == id(b))\n",
    "# practice "
   ]
  },
  {
   "cell_type": "code",
   "execution_count": null,
   "metadata": {},
   "outputs": [],
   "source": [
    "str(10)+10  # error str + int,  java 可以這麼寫"
   ]
  },
  {
   "cell_type": "markdown",
   "metadata": {},
   "source": [
    "---"
   ]
  },
  {
   "cell_type": "markdown",
   "metadata": {},
   "source": [
    "# Module_04_Python運算子"
   ]
  },
  {
   "cell_type": "markdown",
   "metadata": {},
   "source": [
    "# 4-3"
   ]
  },
  {
   "cell_type": "code",
   "execution_count": null,
   "metadata": {},
   "outputs": [],
   "source": [
    "x = 2\n",
    "print('x == 2\\t:', x == 2)\n",
    "print('x != 2\\t:', x != 2)\n",
    "print('x < 5\\t:', x < 5)\n",
    "print('x > 2\\t:', x > 2)\n",
    "print('x <= 2\\t:', x <= 2)\n",
    "print('x >= 2\\t:', x >= 2)"
   ]
  },
  {
   "cell_type": "code",
   "execution_count": null,
   "metadata": {},
   "outputs": [],
   "source": [
    "a = 5; b = 7\n",
    "(a < b) * 2  # True * 2 = 1 * 2"
   ]
  },
  {
   "cell_type": "code",
   "execution_count": null,
   "metadata": {},
   "outputs": [],
   "source": [
    "10<'10'"
   ]
  },
  {
   "cell_type": "markdown",
   "metadata": {},
   "source": [
    "# 4-4"
   ]
  },
  {
   "cell_type": "code",
   "execution_count": null,
   "metadata": {},
   "outputs": [],
   "source": [
    "print('4 <= 6 > 7\\t\\t:', 4 <= 6 > 7)\n",
    "print('4 <= 6 and 6 > 7\\t:', 4<= 6 and 6>7)  # 6 > 7 false\n",
    "5>6>3"
   ]
  },
  {
   "cell_type": "markdown",
   "metadata": {},
   "source": [
    "# 4-5 真值表 (Truth Table)\n",
    "><img src=\".\\img\\truth-Table.png\"  style='height:280px; width:950px'>"
   ]
  },
  {
   "cell_type": "code",
   "execution_count": null,
   "metadata": {},
   "outputs": [],
   "source": [
    "not 3"
   ]
  },
  {
   "cell_type": "code",
   "execution_count": null,
   "metadata": {},
   "outputs": [],
   "source": [
    "not 0"
   ]
  },
  {
   "cell_type": "code",
   "execution_count": null,
   "metadata": {},
   "outputs": [],
   "source": [
    "22%2"
   ]
  },
  {
   "cell_type": "code",
   "execution_count": null,
   "metadata": {},
   "outputs": [],
   "source": [
    "%timeit 22%2==0  # slow"
   ]
  },
  {
   "cell_type": "code",
   "execution_count": null,
   "metadata": {},
   "outputs": [],
   "source": [
    "%timeit not 22%2  # fast"
   ]
  },
  {
   "cell_type": "code",
   "execution_count": null,
   "metadata": {},
   "outputs": [],
   "source": [
    "x = True; y = False  # or x = 1; y = 0\n",
    "print('not x\\t\\t:', not x)\n",
    "print('x and y\\t\\t:', x and y)\n",
    "print('x or y\\t\\t:', x or y)\n",
    "print('x ^ y\\t\\t:', x ^ y)"
   ]
  },
  {
   "cell_type": "markdown",
   "metadata": {},
   "source": [
    "# 4-7"
   ]
  },
  {
   "cell_type": "code",
   "execution_count": null,
   "metadata": {},
   "outputs": [],
   "source": [
    "x = 5 ; y = 6\n",
    "print('x and y\\t:', x and y)        # 若 x 為 Ture 就看 y 的值\n",
    "print('0 and y\\t:', 0 and y)        # 若 x 為 False 就 為 0\n",
    "print('1 and y\\t:', 1 and y, '\\n')  # if x == true then y \n",
    "\n",
    "print('x or y\\t:', x or y)         # if x == trun then x else y\n",
    "print('1 or y\\t:', 1 or y)\n",
    "print('0 or y\\t:', 0 or y, '\\n')\n",
    "\n",
    "print('not x\\t:', not x)\n",
    "print('not y\\t:', not y)\n",
    "print('not 0\\t:', not 0)\n",
    "print('not 3\\t:', not 3)"
   ]
  },
  {
   "cell_type": "markdown",
   "metadata": {},
   "source": [
    "# 4-8"
   ]
  },
  {
   "cell_type": "code",
   "execution_count": null,
   "metadata": {},
   "outputs": [],
   "source": [
    "a = 7; b = 8; c = 8\n",
    "print('a == b\\t\\t:', a == b)\n",
    "print('a is b\\t\\t:', a is b)   # memory address\n",
    "print('a is not b\\t:', a is not b, '\\n')  \n",
    "\n",
    "print('a is c\\t\\t:', a is c)\n",
    "print('b is c\\t\\t:', b is c)  # id 相同, value 一定一樣 memory address"
   ]
  },
  {
   "cell_type": "code",
   "execution_count": null,
   "metadata": {},
   "outputs": [],
   "source": [
    "x = 10\n",
    "print('id(x)\\t\\t:', id(x), '\\n')\n",
    "\n",
    "a = x; x = 20                # a = 10, x =20\n",
    "print('id(x)\\t\\t:', id(x))\n",
    "print('x is a\\t\\t:', x is a)\n",
    "print('id(x) == id(a)\\t:', id(x) == id(a), '\\n')\n",
    "\n",
    "y = 10                     # y =10\n",
    "print('a is y\\t\\t:', a is y)  # possible false"
   ]
  },
  {
   "cell_type": "markdown",
   "metadata": {},
   "source": [
    "# 4-9"
   ]
  },
  {
   "cell_type": "code",
   "execution_count": null,
   "metadata": {},
   "outputs": [],
   "source": [
    "x = 99; y = 99  # try x = 300,  y = 300  99% False,  low possibility True\n",
    "\n",
    "print(x == y)  # == check value\n",
    "print(id(x))\n",
    "print(id(y), '\\n')\n",
    "\n",
    "print(x is y)       # 'is' check memory address\n",
    "print(x is not y)   # 'is' check memory address\n",
    "id(x) == id(y)"
   ]
  },
  {
   "cell_type": "code",
   "execution_count": null,
   "metadata": {},
   "outputs": [],
   "source": [
    "c=300; d=300\n",
    "c is d"
   ]
  },
  {
   "cell_type": "code",
   "execution_count": null,
   "metadata": {},
   "outputs": [],
   "source": [
    "c, d = 300, 300\n",
    "c is d"
   ]
  },
  {
   "cell_type": "code",
   "execution_count": null,
   "metadata": {},
   "outputs": [],
   "source": [
    "c = d = 300\n",
    "a is b"
   ]
  },
  {
   "cell_type": "markdown",
   "metadata": {},
   "source": [
    "# python 在整數 -5 ~ 256 之間，相同記憶體空間\n",
    "https://docs.python.org/3/c-api/long.html"
   ]
  },
  {
   "cell_type": "code",
   "execution_count": null,
   "metadata": {},
   "outputs": [],
   "source": [
    "x = -5; y = -5\n",
    "\n",
    "print(x == y)   # '==' check value\n",
    "print(id(x))\n",
    "print(id(y),'\\n')\n",
    "\n",
    "print(x is y)   # 'is' check memory address\n",
    "id(x) == id(y)"
   ]
  },
  {
   "cell_type": "markdown",
   "metadata": {},
   "source": [
    "# 4-13"
   ]
  },
  {
   "cell_type": "markdown",
   "metadata": {},
   "source": [
    "><img src=\".\\img\\binary.png\"  style='height:350px; width:750px'></img>\n",
    ">### 60|13 == ??\n",
    ">### 60^13 == ??"
   ]
  },
  {
   "cell_type": "code",
   "execution_count": null,
   "metadata": {},
   "outputs": [],
   "source": [
    "print(60 & 13)\n",
    "print(60 and 13)"
   ]
  },
  {
   "cell_type": "code",
   "execution_count": null,
   "metadata": {},
   "outputs": [],
   "source": [
    "k= 60; \n",
    "\n",
    "print(f'binary of k\\t= {k:08b}')  # b 二進位\n",
    "print(f'binary of k\\t= {13:08b}')  # b 二進位\n",
    "\n",
    "print(f'k<<2\\t\\t: {k<<2:b}\\t, 十進位 : {k<<2}')  # 2 ** 2\n",
    "print(f'k>>2\\t\\t: {k>>2:b}\\t\\t, 十進位 : {k>>2}') # / 2 ** 2\n",
    "\n",
    "print(f'k*(2**2)\\t: {k*(2**2)}')\n",
    "print(f'k/(2**2)\\t: {k/(2**2)} \\n')"
   ]
  },
  {
   "cell_type": "code",
   "execution_count": null,
   "metadata": {},
   "outputs": [],
   "source": [
    "x = 5; y = 6\n",
    "print(bin(5), oct(y), hex(5))\n",
    "print(f'x:b = {x:b}\\ty:b = {y:b}')\n",
    "print('x & y :', x & y)"
   ]
  },
  {
   "cell_type": "markdown",
   "metadata": {},
   "source": [
    "# 4-16"
   ]
  },
  {
   "cell_type": "markdown",
   "metadata": {},
   "source": [
    "## 運算子優先順序 :\n",
    "https://www.programiz.com/python-programming/precedence-associativity\n",
    "\n",
    ">![OpPriority](.\\img\\OpPriority.png)"
   ]
  },
  {
   "cell_type": "code",
   "execution_count": null,
   "metadata": {},
   "outputs": [],
   "source": [
    "a, b = 0, 9\n",
    "print(f'a = {a},\\tb = {b}')\n",
    "print('a>10|b<15\\t\\t\\t:', a>10|b<15)                          # False    1. 10|b = 11, a>11 = False, 11<15= True \n",
    "# print('a>10 and 10|b and b<15\\t\\t:', a>10 and 10|b and b<15)  # False    0 and 11 and True\n",
    "print('(a>10)|(b<15)\\t\\t\\t:', (a>10)|(b<15) , '\\n')           # True     (0|1)"
   ]
  },
  {
   "cell_type": "code",
   "execution_count": null,
   "metadata": {},
   "outputs": [],
   "source": [
    "a, b = 0, 9\n",
    "# a is not b & a < b\n",
    "# [a is not (b & a)] < b\n",
    "\n",
    "print('(b & a)\\t\\t\\t:', b & a)  # 0\n",
    "print('[a is not (b & a)]\\t:', a is not b & a)  # \n",
    "print('[a is not (b & a)]< b\\t:', a is not b & a < b)  # 0\n",
    "a is not 0 < b # a is not False     &, is not -> <"
   ]
  },
  {
   "cell_type": "code",
   "execution_count": null,
   "metadata": {},
   "outputs": [],
   "source": [
    "print('10|b\\t\\t\\t\\t:', 10|b)                     # bitwise 1001 or 1010 等於 1011\n",
    "print('11==10|b\\t\\t\\t:', 11==10|b)               # True 先算 | 等於11, 再算 11 == 11, 11==(10|b)\n",
    "print('11==10 and 10|b\\t\\t\\t:', 11==10 and 10|b) # False  F and 11"
   ]
  },
  {
   "cell_type": "code",
   "execution_count": null,
   "metadata": {},
   "outputs": [],
   "source": [
    "# Xor\n",
    "a=1; b=1\n",
    "(a and not(b)) or (not(a) and b)"
   ]
  },
  {
   "cell_type": "markdown",
   "metadata": {},
   "source": [
    "---"
   ]
  },
  {
   "cell_type": "markdown",
   "metadata": {},
   "source": [
    "# Module_05_Python文字資料型態與成員運算子"
   ]
  },
  {
   "cell_type": "markdown",
   "metadata": {},
   "source": [
    "# 5-3 index"
   ]
  },
  {
   "cell_type": "markdown",
   "metadata": {},
   "source": [
    ">![StrIndex](.\\img\\strindex01.png)"
   ]
  },
  {
   "cell_type": "code",
   "execution_count": null,
   "metadata": {},
   "outputs": [],
   "source": [
    "var1 = 'Hello World'\n",
    "\n",
    "print('var1[:6]\\t:', var1[:6])  # inc. space index[5]\n",
    "print('var1[0]\\t\\t:', var1[0])\n",
    "print('var1[1:5]\\t:', var1[1:5])\n",
    "print('var1[-1]\\t:', var1[-1])\n",
    "print('var1[3:-2]\\t:', var1[3:-2])\n",
    "print('var1[3:-2:2]\\t:', var1[3:-2:2])\n",
    "print('var1[::2]\\t:', var1[::2],'\\n')\n",
    "\n",
    "var2 = var1[:6]*6+ \"Python\"\n",
    "print(var2)"
   ]
  },
  {
   "cell_type": "markdown",
   "metadata": {},
   "source": [
    "# str 不可改變 (immutable)"
   ]
  },
  {
   "cell_type": "code",
   "execution_count": null,
   "metadata": {},
   "outputs": [],
   "source": [
    "var1[4]='W'  # error"
   ]
  },
  {
   "cell_type": "code",
   "execution_count": null,
   "metadata": {},
   "outputs": [],
   "source": [
    "a = 'this is a string'\n",
    "print('a\\t=', a)\n",
    "print('a[10]\\t:', a[10])\n",
    "# a[10] = 'f'\n",
    "b = a.replace('string', 'longer string')\n",
    "b"
   ]
  },
  {
   "cell_type": "code",
   "execution_count": null,
   "metadata": {},
   "outputs": [],
   "source": [
    "#\\n  \\t\n",
    "print('This is a long string\\t that contains several lines and\\n some non-printable \\\\character')"
   ]
  },
  {
   "cell_type": "code",
   "execution_count": null,
   "metadata": {},
   "outputs": [],
   "source": [
    "print('c:/test/app')\n",
    "print('c:\\\\test\\\\app')\n",
    "print('c:\\test/app')"
   ]
  },
  {
   "cell_type": "code",
   "execution_count": null,
   "metadata": {},
   "outputs": [],
   "source": [
    "text_para = 'This is a long string that contains\n",
    "several lines and some non-printable characters, \n",
    "such as TAB(\\t) or NEWLINE(\\n). For triple-quoted strings, \n",
    "always use double quote characters to be consistent \n",
    "with the docstring convention in PEP 257.'\n",
    "\n",
    "text_para   # error. no \\ or '''      '''  不解譯跳脫字元"
   ]
  },
  {
   "cell_type": "code",
   "execution_count": 2,
   "metadata": {},
   "outputs": [
    {
     "name": "stdout",
     "output_type": "stream",
     "text": [
      "This is a long string that contains\n",
      "several lines and some non-printable characters, \n",
      "such as TAB(\t) or NEWLINE(\n",
      "). For triple-quoted strings, \n",
      "always use double quote characters to be consistent \n",
      "with the docstring convention in PEP 257. This is a long string. \n",
      " 261 \n",
      "\n",
      "text_para.count('a')  : 14\n",
      "text_para.count('is') : 5\n",
      "text_para.find('is')  : 2\n",
      "text_para.rfind('is') : 244\n"
     ]
    }
   ],
   "source": [
    "text_para = \"\"\"This is a long string that contains\n",
    "several lines and some non-printable characters, \n",
    "such as TAB(\\t) or NEWLINE(\\n). For triple-quoted strings, \n",
    "always use double quote characters to be consistent \n",
    "with the docstring convention in PEP 257. This is a long string.\"\"\"\n",
    "print(text_para, '\\n', len(text_para), '\\n')\n",
    "\n",
    "# string count\n",
    "print(\"text_para.count('a')  :\", text_para.count('a'))    # total count\n",
    "print(\"text_para.count('is') :\", text_para.count('is'))   # total count\n",
    "print(\"text_para.find('is')  :\", text_para.find('is'))    # first position\n",
    "print(\"text_para.rfind('is') :\", text_para.rfind('is'))   # last position\n",
    "# practice"
   ]
  },
  {
   "cell_type": "code",
   "execution_count": null,
   "metadata": {},
   "outputs": [],
   "source": [
    "from collections import Counter\n",
    "Counter(text_para.split())"
   ]
  },
  {
   "cell_type": "markdown",
   "metadata": {},
   "source": [
    "## 5-9"
   ]
  },
  {
   "cell_type": "code",
   "execution_count": null,
   "metadata": {},
   "outputs": [],
   "source": [
    "x = 3; y = [1, 2, 3, 4, 5]\n",
    "\n",
    "print(x in y)\n",
    "print(x not in y)"
   ]
  },
  {
   "cell_type": "code",
   "execution_count": null,
   "metadata": {},
   "outputs": [],
   "source": [
    "a = 'Hello World';   b = 'Hello  '\n",
    "\n",
    "print(b in a)"
   ]
  },
  {
   "cell_type": "markdown",
   "metadata": {},
   "source": [
    "## 5-11"
   ]
  },
  {
   "cell_type": "code",
   "execution_count": null,
   "metadata": {},
   "outputs": [],
   "source": [
    "a = 'Hello';   b = 'Python';   c = 3\n",
    "\n",
    "print(f'a = {a}\\tb = {b}\\t   c ={c}')\n",
    "\n",
    "print('a+b\\t\\t:', a+b)\n",
    "print('a*8\\t\\t:', a*8)\n",
    "print(\"'H' in a\\t:\",'H' in a)\n",
    "print(\"'m' not in a\\t:\", 'm' not in a) \n",
    "print('len(a)\\t\\t:', len(a))"
   ]
  },
  {
   "cell_type": "code",
   "execution_count": null,
   "metadata": {},
   "outputs": [],
   "source": [
    "#\\r or \\R\n",
    "print('This is a long string\\t that contains several lines and\\n some non-printable \\\\character', '\\n')\n",
    "print(r'This is a long string\\t that contains several lines and\\n some non-printable \\\\character')"
   ]
  },
  {
   "cell_type": "markdown",
   "metadata": {},
   "source": [
    "# 5-12"
   ]
  },
  {
   "cell_type": "code",
   "execution_count": null,
   "metadata": {},
   "outputs": [],
   "source": [
    "l = 'the Zen of Python'\n",
    "print(f'l\\t\\t\\t= {l}')\n",
    "print(f'upper\\t\\t\\t: {l.upper()}')\n",
    "print(f'lower\\t\\t\\t: {l.lower()}')\n",
    "print(f'capitalize\\t\\t: {l.capitalize()}')\n",
    "print(f'title\\t\\t\\t: {l.title()}')\n",
    "print(f'swapcase\\t\\t: {l.swapcase()}\\n')  # upper -> lower,  lower -> upper\n",
    "\n",
    "print(f'endswith(\"on\")\\t\\t: {l.endswith(\"on\")}')        #True\n",
    "print(f'startswith(\"the\")\\t: {l.startswith(\"the\")}')    #True"
   ]
  },
  {
   "cell_type": "code",
   "execution_count": null,
   "metadata": {},
   "outputs": [],
   "source": [
    "a = 'hello123'\n",
    "\n",
    "print('a.isalpha()\\t:', a.isalpha())\n",
    "print('a.isspace()\\t:', a.isspace(), '\\n')  # empty\n",
    "\n",
    "print('a.isupper()\\t:', a.isupper())\n",
    "print('a.islower()\\t:', a.islower(), '\\n')\n",
    "\n",
    "print('a.isdigit()\\t:', a.isdigit())\n",
    "print('a isinstance()\\t:', isinstance(a, (int, float, str)))\n",
    "print('a.isalnum()\\t:', a.isalnum())   # 是否都由 0-9a-zA-Z 字符組成"
   ]
  },
  {
   "cell_type": "markdown",
   "metadata": {},
   "source": [
    "## 5-14"
   ]
  },
  {
   "cell_type": "code",
   "execution_count": null,
   "metadata": {},
   "outputs": [],
   "source": [
    "word = '  #### this is a book ####   '\n",
    "print(word.rstrip())\n",
    "print(word.lstrip())\n",
    "print(word.strip(), '\\n')\n",
    "\n",
    "word = '#### this is a book ####'\n",
    "print(word.strip('#'))\n",
    "print(word.strip('#').strip())"
   ]
  },
  {
   "cell_type": "markdown",
   "metadata": {},
   "source": [
    "# str -> list"
   ]
  },
  {
   "cell_type": "code",
   "execution_count": null,
   "metadata": {},
   "outputs": [],
   "source": [
    "data = '20190908.162050.txt'\n",
    "print(data.split())\n",
    "print(data.split('.')) # how about : or o....else\n",
    "print(data.split('.')[-1])"
   ]
  },
  {
   "cell_type": "markdown",
   "metadata": {},
   "source": [
    "# list -> str"
   ]
  },
  {
   "cell_type": "code",
   "execution_count": null,
   "metadata": {},
   "outputs": [],
   "source": [
    "data = ['20190908', '162050', 'txt']\n",
    "'.'.join(data)"
   ]
  },
  {
   "cell_type": "markdown",
   "metadata": {},
   "source": [
    "---"
   ]
  },
  {
   "cell_type": "markdown",
   "metadata": {},
   "source": [
    "# Module_06_基本輸入與輸出"
   ]
  },
  {
   "cell_type": "markdown",
   "metadata": {},
   "source": [
    "# 6-3\n",
    ">## 基本輸入裝置 : 鍵盤 keyboard\n",
    ">## 基本輸出裝置 : 螢幕 monitor"
   ]
  },
  {
   "cell_type": "markdown",
   "metadata": {},
   "source": [
    "### 所有 OS 在啟動時, 都會開啟 3 個程式 :\n",
    ">### standard out (stdout) -- screen >> Java : system.out\n",
    ">### stand input  (stdin)-- keyboard   >> Java : system.in\n",
    ">### standard error(stderr) -- sreen    >>   java : system.err"
   ]
  },
  {
   "cell_type": "code",
   "execution_count": null,
   "metadata": {},
   "outputs": [],
   "source": [
    "print(11, 22, 33, sep='?')  # try end = '\\n', ''\n",
    "print(11, 22, 33, sep='?', end='\\n')  # try end = '\\n', ''\n",
    "print(11, 22, 33, sep='?', end='....')  # try end = '\\n', ''\n",
    "print(11, 22, 33)"
   ]
  },
  {
   "cell_type": "code",
   "execution_count": null,
   "metadata": {},
   "outputs": [],
   "source": [
    "x = 3.000\n",
    "# python2\n",
    "# print'x is' + str(x)\n",
    "\n",
    "#python 3\n",
    "print('x is\\t:', x)\n",
    "print('x is\\t:'+str(x))\n",
    "print(f'x is\\t: {x}\\n')"
   ]
  },
  {
   "cell_type": "code",
   "execution_count": null,
   "metadata": {},
   "outputs": [],
   "source": [
    "print('Hello '+str(x))\n",
    "print('Hello'+ x)  # error, but java OK"
   ]
  },
  {
   "cell_type": "code",
   "execution_count": null,
   "metadata": {},
   "outputs": [],
   "source": [
    "x = input('x = ')  # x= is prompt\n",
    "x  # x is str"
   ]
  },
  {
   "cell_type": "code",
   "execution_count": null,
   "metadata": {},
   "outputs": [],
   "source": [
    "x = int(input('x = '))\n",
    "x  # x is int"
   ]
  },
  {
   "cell_type": "markdown",
   "metadata": {},
   "source": [
    "# 6-4"
   ]
  },
  {
   "cell_type": "code",
   "execution_count": null,
   "metadata": {},
   "outputs": [],
   "source": [
    "eval(5**30)  # error : shall be string"
   ]
  },
  {
   "cell_type": "code",
   "execution_count": null,
   "metadata": {},
   "outputs": [],
   "source": [
    "eval('5**30') # correct"
   ]
  },
  {
   "cell_type": "code",
   "execution_count": null,
   "metadata": {},
   "outputs": [],
   "source": [
    "num= eval(input('input number (ex. 5*6+8/6 or 9/4+8-4):'))  # like 3*5\n",
    "num   # it is a number"
   ]
  },
  {
   "cell_type": "markdown",
   "metadata": {},
   "source": [
    "### % [optional] [寬度] (digit, float, string)"
   ]
  },
  {
   "cell_type": "code",
   "execution_count": null,
   "metadata": {},
   "outputs": [],
   "source": [
    "a = 4321; b = 3.1415926; c = 'abcd'\n",
    "\n",
    "print('a=%d, b=%f' %(a, b))    # without space\n",
    "print('a=% d' %a)   # with space\n",
    "print('a=%10d' %a)\n",
    "print('a=% 3d' %a,'\\n')\n",
    "\n",
    "print('b=%f' %b)\n",
    "print('b=%3.4f' %b)\n",
    "print('b=%2.1f' %b)\n",
    "print('b=%010.3f' %b,'\\n')\n",
    "\n",
    "print('c=%s' %c)\n",
    "print('c= %s' %c)\n",
    "print('c=  %s' %c)"
   ]
  },
  {
   "cell_type": "markdown",
   "metadata": {},
   "source": [
    "# 6-7\n",
    "### f-string :　f'{ 變數 : [填補字元] [靠左<, ^置中, 靠右>] [寬度][b/f/...] }'"
   ]
  },
  {
   "cell_type": "code",
   "execution_count": null,
   "metadata": {},
   "outputs": [],
   "source": [
    "name = 'III'; est  = 1979\n",
    "\n",
    "print(f'{name:*<8} was established in {est:*^8}.') \n",
    "print(f'{2*37}')\n",
    "print(f'{2*37:0>10.3f}')"
   ]
  },
  {
   "cell_type": "code",
   "execution_count": null,
   "metadata": {},
   "outputs": [],
   "source": [
    "a=4321; b=3.456; c='abcd'\n",
    "\n",
    "print(f'a={a:0<10d}')  # a 整數\n",
    "print(f'a={a:0>10d}') \n",
    "\n",
    "print(f'b={b:0>10f}') \n",
    "print(f'c={c:9>10s}') "
   ]
  },
  {
   "cell_type": "code",
   "execution_count": null,
   "metadata": {},
   "outputs": [],
   "source": [
    "# 字串格式化\n",
    "num = 12.56789678\n",
    "print(f'num\\t: {num}')\n",
    "print(f'06.2f\\t: {num:06.2f}')\n",
    "print(f'.0f\\t: {num:.0f}')\n",
    "print(f'3.2f\\t: {num:3.2f}')\n",
    "print(f'0>15.6f\\t: {num:0>15.6f}')  #靠右\n",
    "print(f'0^15f\\t: {num:0^15f}')  #置中\n",
    "print(f'0<15.3f\\t: {num:0<15.3f}\\n')  #靠左\n",
    "\n",
    "print(f'88:b\\t: {88:b}')"
   ]
  },
  {
   "cell_type": "markdown",
   "metadata": {},
   "source": [
    "## 6-9"
   ]
  },
  {
   "cell_type": "code",
   "execution_count": null,
   "metadata": {},
   "outputs": [],
   "source": [
    "# (), [], {} 可換行 \n",
    "\n",
    "name = 'III'; prof = 'scientist'; lang = 'Python'\n",
    "message = (\n",
    "    f'Hi {name}.'\n",
    "    f'You are a {prof}. ' \n",
    "    f'You like {lang}.' \n",
    ")\n",
    "message"
   ]
  },
  {
   "cell_type": "markdown",
   "metadata": {},
   "source": [
    "## 6-10"
   ]
  },
  {
   "cell_type": "code",
   "execution_count": null,
   "metadata": {},
   "outputs": [],
   "source": [
    "# pratice\n",
    "data=12.345678\n",
    "# default decimal 6 digits\n",
    "print('data\\t\\t=', data, '\\n')\n",
    "print(f'data 4.0f\\t= {data:4.0f}')\n",
    "print(f'data 04.0f\\t= {data:04.0f}')\n",
    "print(f'data 5.2f\\t= {data:5.2f}')\n",
    "print(f'data 06.2f\\t= {data:06.2f}')\n",
    "print(f'data 3.2f\\t= {data:3.2f}')\n",
    "print(f'data .2f\\t= {data:.2f}')"
   ]
  },
  {
   "cell_type": "markdown",
   "metadata": {},
   "source": [
    "# datetime : 1000-01-01 ~ 9999-12-31\n",
    "# timestamp : 1970-01-01 ~ 2038-01-19"
   ]
  },
  {
   "cell_type": "code",
   "execution_count": null,
   "metadata": {},
   "outputs": [],
   "source": [
    "from datetime import datetime, date, time, timezone\n",
    "datetime.now()"
   ]
  },
  {
   "cell_type": "code",
   "execution_count": null,
   "metadata": {},
   "outputs": [],
   "source": [
    "dt = datetime(1970, 1, 1, 0, 0, 0, tzinfo=timezone.utc).timestamp()\n",
    "print(dt)"
   ]
  },
  {
   "cell_type": "code",
   "execution_count": null,
   "metadata": {},
   "outputs": [],
   "source": [
    "from datetime import datetime, date, time\n",
    "\n",
    "dt = datetime(2011, 10, 29, 20, 30, 21)\n",
    "\n",
    "print('dt\\t\\t:', dt, ', timestamp : ', dt.timestamp())\n",
    "print('dt.day\\t\\t:', dt.day)\n",
    "print('dt.minute\\t:', dt.minute,'\\n')\n",
    "\n",
    "print('dt.date()\\t:', dt.date())\n",
    "print('dt.time()\\t:', dt.time(),'\\n')\n",
    "\n",
    "print(\"dt.strftime('%m/%d/%Y %H:%M:%S')\\t:\", dt.strftime('%m/%d/%Y %H:%M:%S'))\n",
    "print(\"datetime.strptime('20091031', '%Y%m%d')\\t:\", datetime.strptime('20091031101010', '%Y%m%d%H%M%S'))\n",
    "print('dt.replace(minute=0, second=0)\\t\\t:', dt.replace(minute=0, second=0),'\\n')"
   ]
  },
  {
   "cell_type": "code",
   "execution_count": null,
   "metadata": {},
   "outputs": [],
   "source": [
    "dt2 = datetime(2011, 11, 15, 22, 30)\n",
    "print('dt = ', dt,', dt2 = ', dt2, '\\n')\n",
    "\n",
    "delta = dt2 - dt\n",
    "print('delta\\t\\t\\t=', delta)\n",
    "print('delta.days\\t\\t=', delta.days)\n",
    "print('delta.seconds\\t\\t=', delta.seconds, '\\n')\n",
    "\n",
    "print('type(delta)\\t\\t:', type(delta))\n",
    "print('dt  + delta = dt2\\t:', dt + delta)"
   ]
  },
  {
   "cell_type": "markdown",
   "metadata": {},
   "source": [
    "# 6-11 \"f\" means faster"
   ]
  },
  {
   "cell_type": "code",
   "execution_count": null,
   "metadata": {},
   "outputs": [],
   "source": [
    "name = 'III'; est = 1979\n",
    "\n",
    "%timeit '%s was establihed %d' %(name, est)      # fast\n",
    "%timeit '{} was establihed {}'.format(name, est) # slower\n",
    "%timeit f'{name} was established in {est}'       # faster"
   ]
  },
  {
   "cell_type": "markdown",
   "metadata": {},
   "source": [
    "# 6-13"
   ]
  },
  {
   "cell_type": "code",
   "execution_count": null,
   "metadata": {},
   "outputs": [],
   "source": [
    "name = 'III'; est  = 1979\n",
    "data ={'name':'III', 'est':1979}\n",
    "# %\n",
    "print('The name is %s, aged %d' % (name, est), '\\n')\n",
    "\n",
    "# format\n",
    "print('{:8s} was established in {:10d}'.format(name, est)) \n",
    "print('{name} was established in {est}'.format(**data))  # unpack\n",
    "print('{1:10d} was established in {0:8s}'.format(name, est), '\\n') "
   ]
  },
  {
   "cell_type": "markdown",
   "metadata": {},
   "source": [
    "# 6-15"
   ]
  },
  {
   "cell_type": "code",
   "execution_count": 1,
   "metadata": {},
   "outputs": [
    {
     "data": {
      "text/plain": [
       "'c, b, a'"
      ]
     },
     "execution_count": 1,
     "metadata": {},
     "output_type": "execute_result"
    }
   ],
   "source": [
    "'{2}, {1}, {0}'.format(*'abc') # unpack"
   ]
  },
  {
   "cell_type": "code",
   "execution_count": null,
   "metadata": {},
   "outputs": [],
   "source": [
    "'{1}, {1}, {0}'.format('abc', 'def', 'ghi') # unpack"
   ]
  },
  {
   "cell_type": "markdown",
   "metadata": {},
   "source": [
    "# The END of Day 1\n",
    "---"
   ]
  },
  {
   "cell_type": "markdown",
   "metadata": {},
   "source": [
    "# 輕鬆欣賞一下"
   ]
  },
  {
   "cell_type": "code",
   "execution_count": null,
   "metadata": {},
   "outputs": [],
   "source": [
    "# pip install matplotlib   # 回到 windows power shall系統管理員身分 中打 pip install matplotlib\n",
    "import matplotlib.pyplot as plt \n",
    "  \n",
    "# x-coordinates of left sides of bars  \n",
    "left = [1, 2, 3, 4, 5] \n",
    "  \n",
    "# heights of bars \n",
    "height = [10, 24, 36, 40, 5] \n",
    "  \n",
    "# labels for bars \n",
    "tick_label = ['one', 'two', 'three', 'four', 'five'] \n",
    "  \n",
    "# plotting a bar chart \n",
    "plt.bar(left, height, tick_label = tick_label, \n",
    "        width = 0.8, color = ['red', 'green']) \n",
    "  \n",
    "# naming the x-axis \n",
    "plt.xlabel('x - axis') \n",
    "# naming the y-axis \n",
    "plt.ylabel('y - axis') \n",
    "# plot title \n",
    "plt.title('My bar chart!') \n",
    "  \n",
    "# function to show the plot \n",
    "plt.show()"
   ]
  },
  {
   "cell_type": "code",
   "execution_count": null,
   "metadata": {},
   "outputs": [],
   "source": [
    "# defining labels \n",
    "activities = ['eat', 'sleep', 'work', 'play'] \n",
    "  \n",
    "# portion covered by each label \n",
    "slices = [3, 7, 8, 6] \n",
    "  \n",
    "# color for each label \n",
    "colors = ['r', 'y', 'g', 'b'] \n",
    "  \n",
    "# plotting the pie chart \n",
    "plt.pie(slices, labels = activities, colors=colors,  \n",
    "        startangle=90, shadow = True, explode = (0, 0, 0.1, 0), \n",
    "        radius = 1.2, autopct = '%1.1f%%') \n",
    "  \n",
    "# plotting legend \n",
    "plt.legend() \n",
    "  \n",
    "# showing the plot \n",
    "plt.show() "
   ]
  },
  {
   "cell_type": "code",
   "execution_count": null,
   "metadata": {},
   "outputs": [],
   "source": [
    "names = ['a', 'b', 'c', 'd']\n",
    "values = [1, 10, 100, 80]\n",
    "\n",
    "plt.figure(figsize=(15, 4))\n",
    "\n",
    "plt.subplot(131)\n",
    "plt.bar(names, values)\n",
    "plt.subplot(132)\n",
    "plt.scatter(names, values)\n",
    "plt.subplot(133)\n",
    "plt.plot(names, values)\n",
    "plt.suptitle('Categorical Plotting')\n",
    "plt.show()"
   ]
  }
 ],
 "metadata": {
  "kernelspec": {
   "display_name": "Python 3",
   "language": "python",
   "name": "python3"
  },
  "language_info": {
   "codemirror_mode": {
    "name": "ipython",
    "version": 3
   },
   "file_extension": ".py",
   "mimetype": "text/x-python",
   "name": "python",
   "nbconvert_exporter": "python",
   "pygments_lexer": "ipython3",
   "version": "3.8.5"
  }
 },
 "nbformat": 4,
 "nbformat_minor": 4
}
